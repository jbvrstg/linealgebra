{
  "nbformat": 4,
  "nbformat_minor": 0,
  "metadata": {
    "colab": {
      "name": "Assignment2.ipynb",
      "provenance": [],
      "authorship_tag": "ABX9TyMVu0t7YJN9wQ8fcXdzzxv/",
      "include_colab_link": true
    },
    "kernelspec": {
      "name": "python3",
      "display_name": "Python 3"
    },
    "language_info": {
      "name": "python"
    }
  },
  "cells": [
    {
      "cell_type": "markdown",
      "metadata": {
        "id": "view-in-github",
        "colab_type": "text"
      },
      "source": [
        "<a href=\"https://colab.research.google.com/github/jbvrstg/linealgebra/blob/main/Assignment2.ipynb\" target=\"_parent\"><img src=\"https://colab.research.google.com/assets/colab-badge.svg\" alt=\"Open In Colab\"/></a>"
      ]
    },
    {
      "cell_type": "markdown",
      "metadata": {
        "id": "EiI9E8S11ljt"
      },
      "source": [
        "#Welcome to Python Fundamentals\n",
        "In this module, we are going to establish or skills in Python Programming. We are going to cover the following:\n",
        "\n",
        "\n",
        "\n",
        "*   Variables and Data types\n",
        "*   Operations\n",
        "*   Input and Output Operations  \n",
        "*   Logic Controls\n",
        "*   Iterables\n",
        "*   Functions\n",
        "\n",
        "\n",
        "\n",
        "\n",
        "\n",
        "\n",
        "\n",
        "\n",
        "\n",
        "\n",
        "\n",
        "\n",
        "\n",
        "\n"
      ]
    },
    {
      "cell_type": "markdown",
      "metadata": {
        "id": "MjA4OGyT35j3"
      },
      "source": [
        "#Variable and Data Types"
      ]
    },
    {
      "cell_type": "code",
      "metadata": {
        "id": "3sR0kmQL1SLC"
      },
      "source": [
        "x = 1\n",
        "a,b = 3, -2"
      ],
      "execution_count": null,
      "outputs": []
    },
    {
      "cell_type": "code",
      "metadata": {
        "colab": {
          "base_uri": "https://localhost:8080/"
        },
        "id": "nZqP8_Qk3yDf",
        "outputId": "07d83aef-f2ea-4fe2-be6d-ae867dcc1bdc"
      },
      "source": [
        "type(x)"
      ],
      "execution_count": null,
      "outputs": [
        {
          "output_type": "execute_result",
          "data": {
            "text/plain": [
              "int"
            ]
          },
          "metadata": {},
          "execution_count": 5
        }
      ]
    },
    {
      "cell_type": "code",
      "metadata": {
        "colab": {
          "base_uri": "https://localhost:8080/"
        },
        "id": "4FmBlDgq3tKz",
        "outputId": "68fd0b79-2563-4509-d9e6-12d1ffbf10e2"
      },
      "source": [
        "y=3.0\n",
        "type(y)"
      ],
      "execution_count": null,
      "outputs": [
        {
          "output_type": "execute_result",
          "data": {
            "text/plain": [
              "float"
            ]
          },
          "metadata": {},
          "execution_count": 6
        }
      ]
    },
    {
      "cell_type": "code",
      "metadata": {
        "colab": {
          "base_uri": "https://localhost:8080/"
        },
        "id": "p5g1UdVp4cFs",
        "outputId": "ffd356f7-92ea-4ff1-d815-2695a20e022e"
      },
      "source": [
        "x = float(x)\n",
        "type(x)"
      ],
      "execution_count": null,
      "outputs": [
        {
          "output_type": "execute_result",
          "data": {
            "text/plain": [
              "float"
            ]
          },
          "metadata": {},
          "execution_count": 7
        }
      ]
    },
    {
      "cell_type": "code",
      "metadata": {
        "id": "0qu4bvyk4iOO"
      },
      "source": [
        "s, t, u =\"1\" , '3'; 'three'\n",
        "type(u)"
      ],
      "execution_count": null,
      "outputs": []
    },
    {
      "cell_type": "markdown",
      "metadata": {
        "id": "g3POSkRL40pN"
      },
      "source": [
        "#Operations"
      ]
    },
    {
      "cell_type": "markdown",
      "metadata": {
        "id": "SloGCB1045_q"
      },
      "source": [
        "#Arithmetic"
      ]
    },
    {
      "cell_type": "code",
      "metadata": {
        "id": "cakT4sWi44yg"
      },
      "source": [
        "w, x, y, z = 4.0, -3.0, 2, 32"
      ],
      "execution_count": null,
      "outputs": []
    },
    {
      "cell_type": "code",
      "metadata": {
        "colab": {
          "base_uri": "https://localhost:8080/"
        },
        "id": "M10bDRra5GZb",
        "outputId": "9c9b1e6f-1ef8-412b-e186-a4f65a4681fc"
      },
      "source": [
        "### Addition\n",
        "S = w + x\n",
        "S"
      ],
      "execution_count": null,
      "outputs": [
        {
          "output_type": "execute_result",
          "data": {
            "text/plain": [
              "1.0"
            ]
          },
          "metadata": {},
          "execution_count": 14
        }
      ]
    },
    {
      "cell_type": "code",
      "metadata": {
        "colab": {
          "base_uri": "https://localhost:8080/"
        },
        "id": "f4zlkG7t5qg2",
        "outputId": "5eaf63a6-37ff-4e5d-8983-1f6672a7d61d"
      },
      "source": [
        "### Subtraction\n",
        "D = y - z\n",
        "D"
      ],
      "execution_count": null,
      "outputs": [
        {
          "output_type": "execute_result",
          "data": {
            "text/plain": [
              "-31"
            ]
          },
          "metadata": {},
          "execution_count": 13
        }
      ]
    },
    {
      "cell_type": "code",
      "metadata": {
        "colab": {
          "base_uri": "https://localhost:8080/"
        },
        "id": "8M2J716i51Ck",
        "outputId": "6b85e8b1-38a3-4c72-8921-02d6b9c5ee50"
      },
      "source": [
        "### Multiplication\n",
        "P = w*z\n",
        "P"
      ],
      "execution_count": null,
      "outputs": [
        {
          "output_type": "execute_result",
          "data": {
            "text/plain": [
              "128.0"
            ]
          },
          "metadata": {},
          "execution_count": 15
        }
      ]
    },
    {
      "cell_type": "code",
      "metadata": {
        "colab": {
          "base_uri": "https://localhost:8080/"
        },
        "id": "L_VFL1FP5-EC",
        "outputId": "b877affd-4219-4dd4-9126-a05a095f189a"
      },
      "source": [
        "### Division\n",
        "Q =y/x\n",
        "Q"
      ],
      "execution_count": null,
      "outputs": [
        {
          "output_type": "execute_result",
          "data": {
            "text/plain": [
              "-0.3333333333333333"
            ]
          },
          "metadata": {},
          "execution_count": 16
        }
      ]
    },
    {
      "cell_type": "code",
      "metadata": {
        "colab": {
          "base_uri": "https://localhost:8080/"
        },
        "id": "qYYdO2lb6Zbn",
        "outputId": "08c24729-502f-48b6-dc02-abb4e8785c02"
      },
      "source": [
        "### Floor Division\n",
        "Qf = w/z\n",
        "Qf"
      ],
      "execution_count": null,
      "outputs": [
        {
          "output_type": "execute_result",
          "data": {
            "text/plain": [
              "0.125"
            ]
          },
          "metadata": {},
          "execution_count": 21
        }
      ]
    },
    {
      "cell_type": "code",
      "metadata": {
        "colab": {
          "base_uri": "https://localhost:8080/"
        },
        "id": "6gLqRFfz7FNj",
        "outputId": "bdb59abb-8193-43d8-e4c8-9db5ee3d3c4c"
      },
      "source": [
        "### Exponentiation\n",
        "E = w**w\n",
        "E"
      ],
      "execution_count": null,
      "outputs": [
        {
          "output_type": "execute_result",
          "data": {
            "text/plain": [
              "256.0"
            ]
          },
          "metadata": {},
          "execution_count": 24
        }
      ]
    },
    {
      "cell_type": "code",
      "metadata": {
        "colab": {
          "base_uri": "https://localhost:8080/"
        },
        "id": "HHfGZVAL7YwI",
        "outputId": "05f8d904-110b-4751-8307-7045f9afc71f"
      },
      "source": [
        "### Modulo\n",
        "mod = z%x\n",
        "mod"
      ],
      "execution_count": null,
      "outputs": [
        {
          "output_type": "execute_result",
          "data": {
            "text/plain": [
              "-1.0"
            ]
          },
          "metadata": {},
          "execution_count": 25
        }
      ]
    },
    {
      "cell_type": "markdown",
      "metadata": {
        "id": "OM5drTvR7zoh"
      },
      "source": [
        "# Assignment"
      ]
    },
    {
      "cell_type": "code",
      "metadata": {
        "id": "ivl42KYi72Zc"
      },
      "source": [
        "A, B, C, D, E = 0, 100, 2, 1, 2"
      ],
      "execution_count": null,
      "outputs": []
    },
    {
      "cell_type": "code",
      "metadata": {
        "colab": {
          "base_uri": "https://localhost:8080/"
        },
        "id": "Prv3xPOX77sP",
        "outputId": "acc9b637-af36-4dd2-c6a0-93d3ab2497eb"
      },
      "source": [
        "A += w\n",
        "A"
      ],
      "execution_count": null,
      "outputs": [
        {
          "output_type": "execute_result",
          "data": {
            "text/plain": [
              "12.0"
            ]
          },
          "metadata": {},
          "execution_count": 29
        }
      ]
    },
    {
      "cell_type": "code",
      "metadata": {
        "colab": {
          "base_uri": "https://localhost:8080/"
        },
        "id": "a-1c9uLB8PVc",
        "outputId": "883e956b-2119-463a-b6e3-7d7148a02ec3"
      },
      "source": [
        "B -= x\n",
        "B"
      ],
      "execution_count": null,
      "outputs": [
        {
          "output_type": "execute_result",
          "data": {
            "text/plain": [
              "103.0"
            ]
          },
          "metadata": {},
          "execution_count": 30
        }
      ]
    },
    {
      "cell_type": "code",
      "metadata": {
        "colab": {
          "base_uri": "https://localhost:8080/"
        },
        "id": "TAwUMq5Q8dEs",
        "outputId": "73604579-1c33-45db-8122-0adac4fea0ac"
      },
      "source": [
        "C *= w\n",
        "C"
      ],
      "execution_count": null,
      "outputs": [
        {
          "output_type": "execute_result",
          "data": {
            "text/plain": [
              "512.0"
            ]
          },
          "metadata": {},
          "execution_count": 37
        }
      ]
    },
    {
      "cell_type": "code",
      "metadata": {
        "colab": {
          "base_uri": "https://localhost:8080/"
        },
        "id": "Cn1amlg_9frV",
        "outputId": "095c0ef0-8692-4b14-abc2-121e76970de1"
      },
      "source": [
        "D /= x\n",
        "D"
      ],
      "execution_count": null,
      "outputs": [
        {
          "output_type": "execute_result",
          "data": {
            "text/plain": [
              "0.1111111111111111"
            ]
          },
          "metadata": {},
          "execution_count": 39
        }
      ]
    },
    {
      "cell_type": "code",
      "metadata": {
        "colab": {
          "base_uri": "https://localhost:8080/"
        },
        "id": "caTzFNv39hwT",
        "outputId": "552d1252-0ad6-4577-c070-c3b1aac236da"
      },
      "source": [
        "E **= y\n",
        "E\n"
      ],
      "execution_count": null,
      "outputs": [
        {
          "output_type": "execute_result",
          "data": {
            "text/plain": [
              "256.0"
            ]
          },
          "metadata": {},
          "execution_count": 49
        }
      ]
    },
    {
      "cell_type": "markdown",
      "metadata": {
        "id": "zPFKvhyJ-R6z"
      },
      "source": [
        "### Comparators"
      ]
    },
    {
      "cell_type": "code",
      "metadata": {
        "id": "p-uhwIka-gtL"
      },
      "source": [
        "size_1, size_2, size_3 = 1, 2.0, \"1\"\n",
        "true_size = 1.0"
      ],
      "execution_count": null,
      "outputs": []
    },
    {
      "cell_type": "code",
      "metadata": {
        "colab": {
          "base_uri": "https://localhost:8080/"
        },
        "id": "R8D0FuRl_P7w",
        "outputId": "e4f29aa3-9e46-47ba-b6f0-ccaf0ef0cb51"
      },
      "source": [
        "## Equality\n",
        "size_1 == true_size"
      ],
      "execution_count": null,
      "outputs": [
        {
          "output_type": "execute_result",
          "data": {
            "text/plain": [
              "True"
            ]
          },
          "metadata": {},
          "execution_count": 55
        }
      ]
    },
    {
      "cell_type": "code",
      "metadata": {
        "colab": {
          "base_uri": "https://localhost:8080/"
        },
        "id": "kU3jED-h_Vm5",
        "outputId": "0f8e187b-2598-4196-f136-c29b424b6dba"
      },
      "source": [
        "## Non- Equality\n",
        "size_2 != true_size"
      ],
      "execution_count": null,
      "outputs": [
        {
          "output_type": "execute_result",
          "data": {
            "text/plain": [
              "True"
            ]
          },
          "metadata": {},
          "execution_count": 56
        }
      ]
    },
    {
      "cell_type": "code",
      "metadata": {
        "id": "t3jpNgiN_bz5"
      },
      "source": [
        "## Inequality\n",
        "s1 = size_1 > size_2\n",
        "s2 = size_1 < size_2/2\n",
        "s3 = true_size >= size_1\n",
        "s4 = size_2 <= true_size"
      ],
      "execution_count": null,
      "outputs": []
    },
    {
      "cell_type": "markdown",
      "metadata": {
        "id": "R8FfUtw7_-Gi"
      },
      "source": [
        "### Logical"
      ]
    },
    {
      "cell_type": "code",
      "metadata": {
        "colab": {
          "base_uri": "https://localhost:8080/"
        },
        "id": "aCJMqFW9AB7h",
        "outputId": "0e424745-a5ea-4927-c2ed-100c2d4eab64"
      },
      "source": [
        "size_1 == true_size"
      ],
      "execution_count": null,
      "outputs": [
        {
          "output_type": "execute_result",
          "data": {
            "text/plain": [
              "True"
            ]
          },
          "metadata": {},
          "execution_count": 59
        }
      ]
    },
    {
      "cell_type": "code",
      "metadata": {
        "id": "o24RGp8vAFys"
      },
      "source": [
        "size_1 is true_size"
      ],
      "execution_count": null,
      "outputs": []
    },
    {
      "cell_type": "code",
      "metadata": {
        "id": "5FM0Ib3rAZdO"
      },
      "source": [
        "size_1 is not true_size"
      ],
      "execution_count": null,
      "outputs": []
    },
    {
      "cell_type": "code",
      "metadata": {
        "id": "LgnlZrtFAgh1"
      },
      "source": [
        "P, Q = True, False\n",
        "conj = P and Q\n",
        "conj"
      ],
      "execution_count": null,
      "outputs": []
    },
    {
      "cell_type": "code",
      "metadata": {
        "id": "JiYmEZsQA7jp"
      },
      "source": [
        "disj = P or Q\n",
        "disj"
      ],
      "execution_count": null,
      "outputs": []
    },
    {
      "cell_type": "code",
      "metadata": {
        "colab": {
          "base_uri": "https://localhost:8080/"
        },
        "id": "ELOw7UDfBJOa",
        "outputId": "064b75c1-ca34-45d2-9271-5216d8fcfc6f"
      },
      "source": [
        "nand = not(P and Q)\n",
        "nand"
      ],
      "execution_count": null,
      "outputs": [
        {
          "output_type": "execute_result",
          "data": {
            "text/plain": [
              "True"
            ]
          },
          "metadata": {},
          "execution_count": 66
        }
      ]
    },
    {
      "cell_type": "code",
      "metadata": {
        "colab": {
          "base_uri": "https://localhost:8080/"
        },
        "id": "Ntyt4Ag_BTnM",
        "outputId": "d5515f32-87eb-4a38-9168-764a95ccb196"
      },
      "source": [
        "xor = (not P and Q) or (P and not Q)\n",
        "xor"
      ],
      "execution_count": null,
      "outputs": [
        {
          "output_type": "execute_result",
          "data": {
            "text/plain": [
              "True"
            ]
          },
          "metadata": {},
          "execution_count": 67
        }
      ]
    },
    {
      "cell_type": "markdown",
      "metadata": {
        "id": "tgBZwkg3ByhQ"
      },
      "source": [
        "## Input and Output"
      ]
    },
    {
      "cell_type": "code",
      "metadata": {
        "colab": {
          "base_uri": "https://localhost:8080/"
        },
        "id": "CR_BihcGB1WH",
        "outputId": "a7ecc787-a60c-4b38-8033-e42d90729dcb"
      },
      "source": [
        "print(\"Hello World!\")"
      ],
      "execution_count": null,
      "outputs": [
        {
          "output_type": "stream",
          "name": "stdout",
          "text": [
            "Hello World!\n"
          ]
        }
      ]
    },
    {
      "cell_type": "code",
      "metadata": {
        "id": "cC95vB8tCCo0"
      },
      "source": [
        "cnt = 1"
      ],
      "execution_count": null,
      "outputs": []
    },
    {
      "cell_type": "code",
      "metadata": {
        "id": "xGw2h03zCHkr"
      },
      "source": [
        "string = \"Hello World!\"\n",
        "print(string,\" Current COVID count is:\", cnt)\n",
        "cnt += 1000"
      ],
      "execution_count": null,
      "outputs": []
    },
    {
      "cell_type": "code",
      "metadata": {
        "colab": {
          "base_uri": "https://localhost:8080/"
        },
        "id": "JWq7k_cpC5T2",
        "outputId": "6d740c23-60ff-4b38-954b-bf0c97d69e41"
      },
      "source": [
        "print(f\"{string}, current count is: {cnt}\")"
      ],
      "execution_count": null,
      "outputs": [
        {
          "output_type": "stream",
          "name": "stdout",
          "text": [
            "Hello World!, current count is: 6003\n"
          ]
        }
      ]
    },
    {
      "cell_type": "code",
      "metadata": {
        "colab": {
          "base_uri": "https://localhost:8080/"
        },
        "id": "LLQjXtiODx0M",
        "outputId": "15fa5121-e4f4-4009-e8e3-5bdc6dd92b4f"
      },
      "source": [
        "sem_grade = 86.25\n",
        "name = \"Eugene\"\n",
        "print(\"Hello {}, your semestral grade is: {}\".format(name, sem_grade))"
      ],
      "execution_count": null,
      "outputs": [
        {
          "output_type": "stream",
          "name": "stdout",
          "text": [
            "Hello Eugene, your semestral grade is: 86.25\n"
          ]
        }
      ]
    },
    {
      "cell_type": "code",
      "metadata": {
        "id": "WbEo5x5yDKYj"
      },
      "source": [
        "pg, mg, fg = 0.3, 0.3, 0.4\n",
        "print(\"The weights of your semestral grades are:\\\n",
        "\\n\\t {:.2%} for Prelims\\\n",
        "\\n\\t {:.2%} for Midterms, and\\\n",
        "\\n\\t {:.2%} for Finals.\".format(pg, mg, fg))"
      ],
      "execution_count": null,
      "outputs": []
    },
    {
      "cell_type": "code",
      "metadata": {
        "id": "FErE71rgFhhX"
      },
      "source": [
        "e = input(\"Enter a number\")\n",
        "e"
      ],
      "execution_count": null,
      "outputs": []
    },
    {
      "cell_type": "code",
      "metadata": {
        "id": "xcAXS3-8F0L3"
      },
      "source": [
        "name = input(\"Enter your name: \")\n",
        "pg = input(\"Enter prelim grade: \")\n",
        "mg = input(\"Enter midterm grade: \")\n",
        "fg = input(\"Enter final grade: \")\n",
        "sem_grade = None\n",
        "print(\"Hello {}, your semestral grade is {}\".format(name, sem_grade))"
      ],
      "execution_count": null,
      "outputs": []
    },
    {
      "cell_type": "markdown",
      "metadata": {
        "id": "bLOkn1eaLPcv"
      },
      "source": [
        "## Looping Statements"
      ]
    },
    {
      "cell_type": "markdown",
      "metadata": {
        "id": "nBxrPruPLWds"
      },
      "source": [
        "## While loops"
      ]
    },
    {
      "cell_type": "code",
      "metadata": {
        "colab": {
          "base_uri": "https://localhost:8080/"
        },
        "id": "Y-txfSOILY1s",
        "outputId": "f55b5189-b172-4490-8ebe-09cb7264874e"
      },
      "source": [
        "## while loops\n",
        "i, j = 0 , 10\n",
        "while (i<=j):\n",
        "    print(f\"{i}\\t|\\t{j}\")\n",
        "    i += 1"
      ],
      "execution_count": null,
      "outputs": [
        {
          "output_type": "stream",
          "name": "stdout",
          "text": [
            "0\t|\t10\n",
            "1\t|\t10\n",
            "2\t|\t10\n",
            "3\t|\t10\n",
            "4\t|\t10\n",
            "5\t|\t10\n",
            "6\t|\t10\n",
            "7\t|\t10\n",
            "8\t|\t10\n",
            "9\t|\t10\n",
            "10\t|\t10\n"
          ]
        }
      ]
    },
    {
      "cell_type": "markdown",
      "metadata": {
        "id": "pYent_omL6Gg"
      },
      "source": [
        "###For"
      ]
    },
    {
      "cell_type": "code",
      "metadata": {
        "id": "mhqQfwIxL86H"
      },
      "source": [
        "# for(int = 0; i<=10; i++){\n",
        "# print(i)\n",
        "# }\n",
        "\n",
        "i = 0\n",
        "for i in range(11):\n",
        "  print(i)"
      ],
      "execution_count": null,
      "outputs": []
    },
    {
      "cell_type": "code",
      "metadata": {
        "id": "c28ggfZFMv0W"
      },
      "source": [
        "playlist = [\"Bahay Kubo\", \"Magandang Kanta\", \"Buko\"]\n",
        "print('Now Playing:\\n')\n",
        "for song in playlist:\n",
        "      print(song)"
      ],
      "execution_count": null,
      "outputs": []
    },
    {
      "cell_type": "markdown",
      "metadata": {
        "id": "HE5GcxvLNQ0r"
      },
      "source": [
        "## Flow Control"
      ]
    },
    {
      "cell_type": "markdown",
      "metadata": {
        "id": "ntiGu2qlNUJS"
      },
      "source": [
        "### Conditional Statements"
      ]
    },
    {
      "cell_type": "code",
      "metadata": {
        "id": "Zi96Ccv2NkTf"
      },
      "source": [
        "num_1, num_2 = 12, 12\n",
        "if(num_1 == num_2):\n",
        "    print(\"HAHA\")\n",
        "elif(num_1>num_2):\n",
        "    print(\"HOHO\")\n",
        "else:\n",
        "    print(\"HUHU\")"
      ],
      "execution_count": null,
      "outputs": []
    },
    {
      "cell_type": "markdown",
      "metadata": {
        "id": "brNhQ4RUOFCy"
      },
      "source": [
        "## Functions"
      ]
    },
    {
      "cell_type": "code",
      "metadata": {
        "id": "ZJrKt7TKOHIo"
      },
      "source": [
        "#void DeleteUser (int userid){\n",
        "#   delete(userid):\n",
        "#}\n",
        "\n",
        "def delete_user (userid):\n",
        "    print(\"Successfully deleted user: {}\".format(userid))"
      ],
      "execution_count": null,
      "outputs": []
    },
    {
      "cell_type": "code",
      "metadata": {
        "colab": {
          "base_uri": "https://localhost:8080/"
        },
        "id": "6A5Q3INVOi2B",
        "outputId": "0064f14a-6239-4520-9058-875ba3e19496"
      },
      "source": [
        "userid = 2020_100100\n",
        "delete_user(2020_100100)"
      ],
      "execution_count": null,
      "outputs": [
        {
          "output_type": "stream",
          "name": "stdout",
          "text": [
            "Successfully deleted user: 2020100100\n"
          ]
        }
      ]
    },
    {
      "cell_type": "code",
      "metadata": {
        "id": "F8ZWRVbJO-Bm"
      },
      "source": [
        "addend1, addend2 = 5, 6"
      ],
      "execution_count": null,
      "outputs": []
    },
    {
      "cell_type": "code",
      "metadata": {
        "id": "BeIofRQ9O0sa"
      },
      "source": [
        "def add(addend1, addend2):\n",
        "  sum = addend1 + addend2\n",
        "  return sum\n"
      ],
      "execution_count": null,
      "outputs": []
    },
    {
      "cell_type": "code",
      "metadata": {
        "colab": {
          "base_uri": "https://localhost:8080/"
        },
        "id": "cpHkaJPDPsvt",
        "outputId": "ca58c0bd-5769-49e2-e216-7b8139490332"
      },
      "source": [
        "add(3, 4)"
      ],
      "execution_count": null,
      "outputs": [
        {
          "output_type": "execute_result",
          "data": {
            "text/plain": [
              "7"
            ]
          },
          "metadata": {},
          "execution_count": 116
        }
      ]
    },
    {
      "cell_type": "code",
      "metadata": {
        "id": "ZwvYTM4QPr8i"
      },
      "source": [
        ""
      ],
      "execution_count": null,
      "outputs": []
    }
  ]
}