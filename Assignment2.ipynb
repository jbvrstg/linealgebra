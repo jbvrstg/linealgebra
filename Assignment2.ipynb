{
  "nbformat": 4,
  "nbformat_minor": 0,
  "metadata": {
    "colab": {
      "name": "Assignment2.ipynb",
      "provenance": [],
      "collapsed_sections": [
        "bLOkn1eaLPcv",
        "nBxrPruPLWds",
        "pYent_omL6Gg",
        "HE5GcxvLNQ0r",
        "ntiGu2qlNUJS",
        "brNhQ4RUOFCy"
      ],
      "include_colab_link": true
    },
    "kernelspec": {
      "display_name": "Python 3",
      "name": "python3"
    },
    "language_info": {
      "name": "python"
    }
  },
  "cells": [
    {
      "cell_type": "markdown",
      "metadata": {
        "id": "view-in-github",
        "colab_type": "text"
      },
      "source": [
        "<a href=\"https://colab.research.google.com/github/jbvrstg/linealgebra/blob/main/Assignment2.ipynb\" target=\"_parent\"><img src=\"https://colab.research.google.com/assets/colab-badge.svg\" alt=\"Open In Colab\"/></a>"
      ]
    },
    {
      "cell_type": "markdown",
      "metadata": {
        "id": "EiI9E8S11ljt"
      },
      "source": [
        "#Welcome to Python Fundamentals\n",
        "In this module, we are going to establish or skills in Python Programming. We are going to cover the following:\n",
        "\n",
        "\n",
        "\n",
        "*   Variables and Data types\n",
        "*   Operations\n",
        "*   Input and Output Operations  \n",
        "*   Logic Controls\n",
        "*   Iterables\n",
        "*   Functions\n",
        "\n",
        "\n",
        "\n",
        "\n",
        "\n",
        "\n",
        "\n",
        "\n",
        "\n",
        "\n",
        "\n",
        "\n",
        "\n",
        "\n"
      ]
    },
    {
      "cell_type": "markdown",
      "metadata": {
        "id": "MjA4OGyT35j3"
      },
      "source": [
        "###Variable and Data Types\n",
        "\n",
        "\n",
        "\n",
        "\n"
      ]
    },
    {
      "cell_type": "markdown",
      "metadata": {
        "id": "T9ucp5PokdGo"
      },
      "source": [
        "###Variables\n",
        "Variable is a memory region set aside for storing values. A variable in a Python program, to simplify the words, provides data to the computer for processing. It can be declared by any name or even alphabets like a, aa, abc, and etc."
      ]
    },
    {
      "cell_type": "markdown",
      "metadata": {
        "id": "MMxrBQMFkiCi"
      },
      "source": [
        "###Data Types\n",
        "The classification or categorizing of data elements is known as data types. It denotes the kind of value that specifies which operations can be conducted on a given set of data. It can be Numbers, List, Tuple, Strings, Dictionary, etc."
      ]
    },
    {
      "cell_type": "code",
      "metadata": {
        "id": "3sR0kmQL1SLC"
      },
      "source": [
        "x = 1\n",
        "a,b = 3, -2"
      ],
      "execution_count": null,
      "outputs": []
    },
    {
      "cell_type": "code",
      "metadata": {
        "colab": {
          "base_uri": "https://localhost:8080/"
        },
        "id": "nZqP8_Qk3yDf",
        "outputId": "4fb3a4bc-c887-4c36-ab45-e7d074fac199"
      },
      "source": [
        "type(x)"
      ],
      "execution_count": null,
      "outputs": [
        {
          "output_type": "execute_result",
          "data": {
            "text/plain": [
              "int"
            ]
          },
          "metadata": {},
          "execution_count": 2
        }
      ]
    },
    {
      "cell_type": "code",
      "metadata": {
        "colab": {
          "base_uri": "https://localhost:8080/"
        },
        "id": "4FmBlDgq3tKz",
        "outputId": "1e9cfb4e-8471-494b-dd88-e87a787c2842"
      },
      "source": [
        "y=3.0\n",
        "type(y)"
      ],
      "execution_count": null,
      "outputs": [
        {
          "output_type": "execute_result",
          "data": {
            "text/plain": [
              "float"
            ]
          },
          "metadata": {},
          "execution_count": 3
        }
      ]
    },
    {
      "cell_type": "code",
      "metadata": {
        "colab": {
          "base_uri": "https://localhost:8080/"
        },
        "id": "p5g1UdVp4cFs",
        "outputId": "c8316b66-29fd-460b-ec2e-53c395e716fc"
      },
      "source": [
        "x = float(x)\n",
        "type(x)"
      ],
      "execution_count": null,
      "outputs": [
        {
          "output_type": "execute_result",
          "data": {
            "text/plain": [
              "float"
            ]
          },
          "metadata": {},
          "execution_count": 4
        }
      ]
    },
    {
      "cell_type": "code",
      "metadata": {
        "colab": {
          "base_uri": "https://localhost:8080/"
        },
        "id": "0qu4bvyk4iOO",
        "outputId": "4433779e-7298-48f1-9489-0e8f6b9f2887"
      },
      "source": [
        "s, t, u =\"1\" , '3' , 'three'\n",
        "type(u)"
      ],
      "execution_count": null,
      "outputs": [
        {
          "output_type": "execute_result",
          "data": {
            "text/plain": [
              "str"
            ]
          },
          "metadata": {},
          "execution_count": 5
        }
      ]
    },
    {
      "cell_type": "markdown",
      "metadata": {
        "id": "g3POSkRL40pN"
      },
      "source": [
        "###Operations\n",
        "In Python, operators are special symbols that perform arithmetic or logical computations. The operand is the value on which the operator operates."
      ]
    },
    {
      "cell_type": "markdown",
      "metadata": {
        "id": "SloGCB1045_q"
      },
      "source": [
        "###Arithmetic\n",
        "Arithmetic operations such as addition, subtraction, multiplication, division, and division are performed using arithmetic operators."
      ]
    },
    {
      "cell_type": "code",
      "metadata": {
        "id": "cakT4sWi44yg"
      },
      "source": [
        "w, x, y, z = 4.0, -3.0, 2, 32"
      ],
      "execution_count": null,
      "outputs": []
    },
    {
      "cell_type": "code",
      "metadata": {
        "colab": {
          "base_uri": "https://localhost:8080/"
        },
        "id": "M10bDRra5GZb",
        "outputId": "e0bb29fb-3e5a-4ceb-efe9-aa4de1c22976"
      },
      "source": [
        "### Addition\n",
        "S = w + x\n",
        "S"
      ],
      "execution_count": null,
      "outputs": [
        {
          "output_type": "execute_result",
          "data": {
            "text/plain": [
              "1.0"
            ]
          },
          "metadata": {},
          "execution_count": 7
        }
      ]
    },
    {
      "cell_type": "code",
      "metadata": {
        "colab": {
          "base_uri": "https://localhost:8080/"
        },
        "id": "f4zlkG7t5qg2",
        "outputId": "cbef89eb-528a-4790-fa34-798b33937618"
      },
      "source": [
        "### Subtraction\n",
        "D = y - z\n",
        "D"
      ],
      "execution_count": null,
      "outputs": [
        {
          "output_type": "execute_result",
          "data": {
            "text/plain": [
              "-30"
            ]
          },
          "metadata": {},
          "execution_count": 8
        }
      ]
    },
    {
      "cell_type": "code",
      "metadata": {
        "colab": {
          "base_uri": "https://localhost:8080/"
        },
        "id": "8M2J716i51Ck",
        "outputId": "97a2afc3-8395-4d6d-cdb1-34a85edab92b"
      },
      "source": [
        "### Multiplication\n",
        "P = w*z\n",
        "P"
      ],
      "execution_count": null,
      "outputs": [
        {
          "output_type": "execute_result",
          "data": {
            "text/plain": [
              "128.0"
            ]
          },
          "metadata": {},
          "execution_count": 9
        }
      ]
    },
    {
      "cell_type": "code",
      "metadata": {
        "colab": {
          "base_uri": "https://localhost:8080/"
        },
        "id": "L_VFL1FP5-EC",
        "outputId": "eb16000d-0c29-493c-d7f8-9c8f24f71bab"
      },
      "source": [
        "### Division\n",
        "Q =y/x\n",
        "Q"
      ],
      "execution_count": null,
      "outputs": [
        {
          "output_type": "execute_result",
          "data": {
            "text/plain": [
              "-0.6666666666666666"
            ]
          },
          "metadata": {},
          "execution_count": 10
        }
      ]
    },
    {
      "cell_type": "code",
      "metadata": {
        "colab": {
          "base_uri": "https://localhost:8080/"
        },
        "id": "qYYdO2lb6Zbn",
        "outputId": "2faca157-1f0e-4114-c932-ba9e2ec074c4"
      },
      "source": [
        "### Floor Division\n",
        "Qf = w/z\n",
        "Qf"
      ],
      "execution_count": null,
      "outputs": [
        {
          "output_type": "execute_result",
          "data": {
            "text/plain": [
              "0.125"
            ]
          },
          "metadata": {},
          "execution_count": 11
        }
      ]
    },
    {
      "cell_type": "code",
      "metadata": {
        "colab": {
          "base_uri": "https://localhost:8080/"
        },
        "id": "6gLqRFfz7FNj",
        "outputId": "11df94ce-bf73-4a6c-8e0c-7c99f0de69d0"
      },
      "source": [
        "### Exponentiation\n",
        "E = w**w\n",
        "E"
      ],
      "execution_count": null,
      "outputs": [
        {
          "output_type": "execute_result",
          "data": {
            "text/plain": [
              "256.0"
            ]
          },
          "metadata": {},
          "execution_count": 12
        }
      ]
    },
    {
      "cell_type": "code",
      "metadata": {
        "colab": {
          "base_uri": "https://localhost:8080/"
        },
        "id": "HHfGZVAL7YwI",
        "outputId": "5bedf519-7a26-483a-cc51-eba8662dc873"
      },
      "source": [
        "### Modulo\n",
        "mod = z%x\n",
        "mod"
      ],
      "execution_count": null,
      "outputs": [
        {
          "output_type": "execute_result",
          "data": {
            "text/plain": [
              "-1.0"
            ]
          },
          "metadata": {},
          "execution_count": 13
        }
      ]
    },
    {
      "cell_type": "markdown",
      "metadata": {
        "id": "OM5drTvR7zoh"
      },
      "source": [
        "### Assignment\n",
        "The process of assigning a variable a name and space for the variable to have a value provides the name and space for the variable to hold a value."
      ]
    },
    {
      "cell_type": "code",
      "metadata": {
        "id": "ivl42KYi72Zc"
      },
      "source": [
        "A, B, C, D, E = 0, 100, 2, 1, 2"
      ],
      "execution_count": null,
      "outputs": []
    },
    {
      "cell_type": "code",
      "metadata": {
        "colab": {
          "base_uri": "https://localhost:8080/"
        },
        "id": "Prv3xPOX77sP",
        "outputId": "929f5899-963e-4bc1-8809-9ae8bc9225f1"
      },
      "source": [
        "A += w\n",
        "A"
      ],
      "execution_count": null,
      "outputs": [
        {
          "output_type": "execute_result",
          "data": {
            "text/plain": [
              "4.0"
            ]
          },
          "metadata": {},
          "execution_count": 15
        }
      ]
    },
    {
      "cell_type": "code",
      "metadata": {
        "colab": {
          "base_uri": "https://localhost:8080/"
        },
        "id": "a-1c9uLB8PVc",
        "outputId": "eea5847c-94c2-4def-d585-7d4db8f1b4ee"
      },
      "source": [
        "B -= x\n",
        "B"
      ],
      "execution_count": null,
      "outputs": [
        {
          "output_type": "execute_result",
          "data": {
            "text/plain": [
              "103.0"
            ]
          },
          "metadata": {},
          "execution_count": 16
        }
      ]
    },
    {
      "cell_type": "code",
      "metadata": {
        "colab": {
          "base_uri": "https://localhost:8080/"
        },
        "id": "TAwUMq5Q8dEs",
        "outputId": "a6559a84-fac9-4705-e028-bed421202474"
      },
      "source": [
        "C *= w\n",
        "C"
      ],
      "execution_count": null,
      "outputs": [
        {
          "output_type": "execute_result",
          "data": {
            "text/plain": [
              "8.0"
            ]
          },
          "metadata": {},
          "execution_count": 17
        }
      ]
    },
    {
      "cell_type": "code",
      "metadata": {
        "colab": {
          "base_uri": "https://localhost:8080/"
        },
        "id": "Cn1amlg_9frV",
        "outputId": "8caccf85-7277-4211-a30f-bb51a0fd68f6"
      },
      "source": [
        "D /= x\n",
        "D"
      ],
      "execution_count": null,
      "outputs": [
        {
          "output_type": "execute_result",
          "data": {
            "text/plain": [
              "-0.3333333333333333"
            ]
          },
          "metadata": {},
          "execution_count": 18
        }
      ]
    },
    {
      "cell_type": "code",
      "metadata": {
        "colab": {
          "base_uri": "https://localhost:8080/"
        },
        "id": "caTzFNv39hwT",
        "outputId": "96616a3e-2e44-46a0-cebe-6460b7430cc3"
      },
      "source": [
        "E **= y\n",
        "E\n"
      ],
      "execution_count": null,
      "outputs": [
        {
          "output_type": "execute_result",
          "data": {
            "text/plain": [
              "4"
            ]
          },
          "metadata": {},
          "execution_count": 19
        }
      ]
    },
    {
      "cell_type": "markdown",
      "metadata": {
        "id": "zPFKvhyJ-R6z"
      },
      "source": [
        "### Comparators\n",
        "Comparators are tools that allow you to compare two values. It compares two boolean values and returns the result. It's most usually associated with numerical values, but it can also be applied to other sorts of data."
      ]
    },
    {
      "cell_type": "code",
      "metadata": {
        "id": "p-uhwIka-gtL"
      },
      "source": [
        "size_1, size_2, size_3 = 1, 2.0, \"1\"\n",
        "true_size = 1.0"
      ],
      "execution_count": null,
      "outputs": []
    },
    {
      "cell_type": "code",
      "metadata": {
        "colab": {
          "base_uri": "https://localhost:8080/"
        },
        "id": "R8D0FuRl_P7w",
        "outputId": "0aa16f94-94de-48cf-d323-57e4da27bf4a"
      },
      "source": [
        "## Equality\n",
        "size_1 == true_size"
      ],
      "execution_count": null,
      "outputs": [
        {
          "output_type": "execute_result",
          "data": {
            "text/plain": [
              "True"
            ]
          },
          "metadata": {},
          "execution_count": 21
        }
      ]
    },
    {
      "cell_type": "code",
      "metadata": {
        "colab": {
          "base_uri": "https://localhost:8080/"
        },
        "id": "kU3jED-h_Vm5",
        "outputId": "8d84cd76-1273-4aae-bd3a-9c7293c875df"
      },
      "source": [
        "## Non- Equality\n",
        "size_2 != true_size"
      ],
      "execution_count": null,
      "outputs": [
        {
          "output_type": "execute_result",
          "data": {
            "text/plain": [
              "True"
            ]
          },
          "metadata": {},
          "execution_count": 22
        }
      ]
    },
    {
      "cell_type": "code",
      "metadata": {
        "id": "t3jpNgiN_bz5"
      },
      "source": [
        "## Inequality\n",
        "s1 = size_1 > size_2\n",
        "s2 = size_1 < size_2/2\n",
        "s3 = true_size >= size_1\n",
        "s4 = size_2 <= true_size"
      ],
      "execution_count": null,
      "outputs": []
    },
    {
      "cell_type": "markdown",
      "metadata": {
        "id": "R8FfUtw7_-Gi"
      },
      "source": [
        "### Logical\n",
        "In Python, the logical operators are used to combine the true and false values of variables to determine the resultant truth value."
      ]
    },
    {
      "cell_type": "code",
      "metadata": {
        "colab": {
          "base_uri": "https://localhost:8080/"
        },
        "id": "aCJMqFW9AB7h",
        "outputId": "e8afdfc0-606e-4740-b239-67444f6e39cd"
      },
      "source": [
        "size_1 == true_size"
      ],
      "execution_count": null,
      "outputs": [
        {
          "output_type": "execute_result",
          "data": {
            "text/plain": [
              "True"
            ]
          },
          "metadata": {},
          "execution_count": 24
        }
      ]
    },
    {
      "cell_type": "code",
      "metadata": {
        "colab": {
          "base_uri": "https://localhost:8080/"
        },
        "id": "o24RGp8vAFys",
        "outputId": "bc7c2aa8-2a95-4e07-bdba-8a7510f6ea28"
      },
      "source": [
        "size_1 is true_size"
      ],
      "execution_count": null,
      "outputs": [
        {
          "output_type": "execute_result",
          "data": {
            "text/plain": [
              "False"
            ]
          },
          "metadata": {},
          "execution_count": 25
        }
      ]
    },
    {
      "cell_type": "code",
      "metadata": {
        "colab": {
          "base_uri": "https://localhost:8080/"
        },
        "id": "5FM0Ib3rAZdO",
        "outputId": "3ebe420e-966c-4be9-f069-159e7a44aea3"
      },
      "source": [
        "size_1 is not true_size"
      ],
      "execution_count": null,
      "outputs": [
        {
          "output_type": "execute_result",
          "data": {
            "text/plain": [
              "True"
            ]
          },
          "metadata": {},
          "execution_count": 26
        }
      ]
    },
    {
      "cell_type": "code",
      "metadata": {
        "colab": {
          "base_uri": "https://localhost:8080/"
        },
        "id": "LgnlZrtFAgh1",
        "outputId": "edba7805-5883-475a-9e01-3345b3e855e7"
      },
      "source": [
        "P, Q = True, False\n",
        "conj = P and Q\n",
        "conj"
      ],
      "execution_count": null,
      "outputs": [
        {
          "output_type": "execute_result",
          "data": {
            "text/plain": [
              "False"
            ]
          },
          "metadata": {},
          "execution_count": 27
        }
      ]
    },
    {
      "cell_type": "code",
      "metadata": {
        "colab": {
          "base_uri": "https://localhost:8080/"
        },
        "id": "JiYmEZsQA7jp",
        "outputId": "a9d42fc5-f263-4289-9369-54b1b04649ea"
      },
      "source": [
        "disj = P or Q\n",
        "disj"
      ],
      "execution_count": null,
      "outputs": [
        {
          "output_type": "execute_result",
          "data": {
            "text/plain": [
              "True"
            ]
          },
          "metadata": {},
          "execution_count": 28
        }
      ]
    },
    {
      "cell_type": "code",
      "metadata": {
        "colab": {
          "base_uri": "https://localhost:8080/"
        },
        "id": "ELOw7UDfBJOa",
        "outputId": "af3ff96f-2dbd-4b48-ceb8-ae98443459c1"
      },
      "source": [
        "nand = not(P and Q)\n",
        "nand"
      ],
      "execution_count": null,
      "outputs": [
        {
          "output_type": "execute_result",
          "data": {
            "text/plain": [
              "True"
            ]
          },
          "metadata": {},
          "execution_count": 29
        }
      ]
    },
    {
      "cell_type": "code",
      "metadata": {
        "colab": {
          "base_uri": "https://localhost:8080/"
        },
        "id": "Ntyt4Ag_BTnM",
        "outputId": "bfacc8a8-726d-4a8f-ba67-a2a93ac0db7a"
      },
      "source": [
        "xor = (not P and Q) or (P and not Q)\n",
        "xor"
      ],
      "execution_count": null,
      "outputs": [
        {
          "output_type": "execute_result",
          "data": {
            "text/plain": [
              "True"
            ]
          },
          "metadata": {},
          "execution_count": 30
        }
      ]
    },
    {
      "cell_type": "markdown",
      "metadata": {
        "id": "tgBZwkg3ByhQ"
      },
      "source": [
        "### Input and Output"
      ]
    },
    {
      "cell_type": "code",
      "metadata": {
        "id": "CR_BihcGB1WH",
        "colab": {
          "base_uri": "https://localhost:8080/"
        },
        "outputId": "5e3ea6cc-80ba-4694-cef7-661b8ffe71d0"
      },
      "source": [
        "print(\"Hello World!\")"
      ],
      "execution_count": null,
      "outputs": [
        {
          "output_type": "stream",
          "name": "stdout",
          "text": [
            "Hello World!\n"
          ]
        }
      ]
    },
    {
      "cell_type": "code",
      "metadata": {
        "id": "cC95vB8tCCo0"
      },
      "source": [
        "cnt = 1"
      ],
      "execution_count": null,
      "outputs": []
    },
    {
      "cell_type": "code",
      "metadata": {
        "id": "xGw2h03zCHkr",
        "colab": {
          "base_uri": "https://localhost:8080/"
        },
        "outputId": "cc8a1969-adc5-4cdb-f272-19860bcfcfca"
      },
      "source": [
        "string = \"Hello World!\"\n",
        "print(string,\" Current COVID count is:\", cnt)\n",
        "cnt += 1000"
      ],
      "execution_count": null,
      "outputs": [
        {
          "output_type": "stream",
          "name": "stdout",
          "text": [
            "Hello World!  Current COVID count is: 1\n"
          ]
        }
      ]
    },
    {
      "cell_type": "code",
      "metadata": {
        "colab": {
          "base_uri": "https://localhost:8080/"
        },
        "id": "JWq7k_cpC5T2",
        "outputId": "0b5a30ce-8003-4311-8f3e-8da1091c7060"
      },
      "source": [
        "print(f\"{string}, current count is: {cnt}\")"
      ],
      "execution_count": null,
      "outputs": [
        {
          "output_type": "stream",
          "name": "stdout",
          "text": [
            "Hello World!, current count is: 1001\n"
          ]
        }
      ]
    },
    {
      "cell_type": "code",
      "metadata": {
        "colab": {
          "base_uri": "https://localhost:8080/"
        },
        "id": "LLQjXtiODx0M",
        "outputId": "a6e02649-2cd0-447c-9e1a-d5567dd205fc"
      },
      "source": [
        "sem_grade = 86.25\n",
        "name = \"Eugene\"\n",
        "print(\"Hello {}, your semestral grade is: {}\".format(name, sem_grade))"
      ],
      "execution_count": null,
      "outputs": [
        {
          "output_type": "stream",
          "name": "stdout",
          "text": [
            "Hello Eugene, your semestral grade is: 86.25\n"
          ]
        }
      ]
    },
    {
      "cell_type": "code",
      "metadata": {
        "colab": {
          "base_uri": "https://localhost:8080/"
        },
        "id": "WbEo5x5yDKYj",
        "outputId": "d987a36b-9464-4e42-ee18-451d40d38bbc"
      },
      "source": [
        "pg, mg, fg = 0.3, 0.3, 0.4\n",
        "print(\"The weights of your semestral grades are:\\\n",
        "\\n\\t {:.2%} for Prelims\\\n",
        "\\n\\t {:.2%} for Midterms, and\\\n",
        "\\n\\t {:.2%} for Finals.\".format(pg, mg, fg))"
      ],
      "execution_count": null,
      "outputs": [
        {
          "output_type": "stream",
          "name": "stdout",
          "text": [
            "The weights of your semestral grades are:\n",
            "\t 30.00% for Prelims\n",
            "\t 30.00% for Midterms, and\n",
            "\t 40.00% for Finals.\n"
          ]
        }
      ]
    },
    {
      "cell_type": "code",
      "metadata": {
        "colab": {
          "base_uri": "https://localhost:8080/",
          "height": 53
        },
        "id": "FErE71rgFhhX",
        "outputId": "413c59da-87a2-4d5f-cdc9-a5e5fa71c33b"
      },
      "source": [
        "e = input(\"Enter a number\")\n",
        "e"
      ],
      "execution_count": null,
      "outputs": [
        {
          "name": "stdout",
          "output_type": "stream",
          "text": [
            "Enter a number1\n"
          ]
        },
        {
          "output_type": "execute_result",
          "data": {
            "application/vnd.google.colaboratory.intrinsic+json": {
              "type": "string"
            },
            "text/plain": [
              "'1'"
            ]
          },
          "metadata": {},
          "execution_count": 37
        }
      ]
    },
    {
      "cell_type": "code",
      "metadata": {
        "colab": {
          "base_uri": "https://localhost:8080/"
        },
        "id": "xcAXS3-8F0L3",
        "outputId": "2963fb03-2286-431e-acee-109c76b81932"
      },
      "source": [
        "name = input(\"Enter your name: \")\n",
        "pg = input(\"Enter prelim grade: \")\n",
        "mg = input(\"Enter midterm grade: \")\n",
        "fg = input(\"Enter final grade: \")\n",
        "sem_grade = None\n",
        "print(\"Hello {}, your semestral grade is {}\".format(name, sem_grade))"
      ],
      "execution_count": null,
      "outputs": [
        {
          "output_type": "stream",
          "name": "stdout",
          "text": [
            "Enter your name: Eugene\n",
            "Enter prelim grade: 1\n",
            "Enter midterm grade: 2\n",
            "Enter final grade: 3\n",
            "Hello Eugene, your semestral grade is None\n"
          ]
        }
      ]
    },
    {
      "cell_type": "markdown",
      "metadata": {
        "id": "PWfsNx5prUqG"
      },
      "source": [
        "###Input\n",
        "Input refers to any information or data sent to the computer by the user via the keyboard."
      ]
    },
    {
      "cell_type": "markdown",
      "metadata": {
        "id": "dZFtQh9Hracr"
      },
      "source": [
        "###Output\n",
        "Output refers to the information that the computer provides to the user."
      ]
    },
    {
      "cell_type": "markdown",
      "metadata": {
        "id": "bLOkn1eaLPcv"
      },
      "source": [
        "## Looping Statements\n",
        "In Python, looping statements are used to execute a block of statements or code continuously for as long as the user specifies."
      ]
    },
    {
      "cell_type": "markdown",
      "metadata": {
        "id": "nBxrPruPLWds"
      },
      "source": [
        "## While loops\n",
        "While Loop is a programming construct that is used to repeatedly execute a set of statements until a condition is met."
      ]
    },
    {
      "cell_type": "code",
      "metadata": {
        "colab": {
          "base_uri": "https://localhost:8080/"
        },
        "id": "Y-txfSOILY1s",
        "outputId": "6a7b1b16-e1dd-4761-bd9e-7c979468e505"
      },
      "source": [
        "## while loops\n",
        "i, j = 0 , 10\n",
        "while (i<=j):\n",
        "    print(f\"{i}\\t|\\t{j}\")\n",
        "    i += 1"
      ],
      "execution_count": null,
      "outputs": [
        {
          "output_type": "stream",
          "name": "stdout",
          "text": [
            "0\t|\t10\n",
            "1\t|\t10\n",
            "2\t|\t10\n",
            "3\t|\t10\n",
            "4\t|\t10\n",
            "5\t|\t10\n",
            "6\t|\t10\n",
            "7\t|\t10\n",
            "8\t|\t10\n",
            "9\t|\t10\n",
            "10\t|\t10\n"
          ]
        }
      ]
    },
    {
      "cell_type": "markdown",
      "metadata": {
        "id": "pYent_omL6Gg"
      },
      "source": [
        "###For"
      ]
    },
    {
      "cell_type": "code",
      "metadata": {
        "colab": {
          "base_uri": "https://localhost:8080/"
        },
        "id": "mhqQfwIxL86H",
        "outputId": "6c51f74a-e03c-4068-823c-ca1c719fd813"
      },
      "source": [
        "# for(int = 0; i<=10; i++){\n",
        "# print(i)\n",
        "# }\n",
        "\n",
        "i = 0\n",
        "for i in range(11):\n",
        "  print(i)"
      ],
      "execution_count": null,
      "outputs": [
        {
          "output_type": "stream",
          "name": "stdout",
          "text": [
            "0\n",
            "1\n",
            "2\n",
            "3\n",
            "4\n",
            "5\n",
            "6\n",
            "7\n",
            "8\n",
            "9\n",
            "10\n"
          ]
        }
      ]
    },
    {
      "cell_type": "code",
      "metadata": {
        "colab": {
          "base_uri": "https://localhost:8080/"
        },
        "id": "c28ggfZFMv0W",
        "outputId": "2809b7a6-d834-4b3b-94da-c0fd34f0a79e"
      },
      "source": [
        "playlist = [\"Bahay Kubo\", \"Magandang Kanta\", \"Buko\"]\n",
        "print('Now Playing:\\n')\n",
        "for song in playlist:\n",
        "      print(song)"
      ],
      "execution_count": null,
      "outputs": [
        {
          "output_type": "stream",
          "name": "stdout",
          "text": [
            "Now Playing:\n",
            "\n",
            "Bahay Kubo\n",
            "Magandang Kanta\n",
            "Buko\n"
          ]
        }
      ]
    },
    {
      "cell_type": "markdown",
      "metadata": {
        "id": "HE5GcxvLNQ0r"
      },
      "source": [
        "## Flow Control\n",
        "The control flow of a program is the sequence in which its code is executed. Conditional statements, loops, and function calls govern the control flow of a Python program."
      ]
    },
    {
      "cell_type": "markdown",
      "metadata": {
        "id": "ntiGu2qlNUJS"
      },
      "source": [
        "### Conditional Statements"
      ]
    },
    {
      "cell_type": "code",
      "metadata": {
        "colab": {
          "base_uri": "https://localhost:8080/"
        },
        "id": "Zi96Ccv2NkTf",
        "outputId": "f51268af-a7a2-4b15-ea24-20d4185612f0"
      },
      "source": [
        "num_1, num_2 = 12, 12\n",
        "if(num_1 == num_2):\n",
        "    print(\"HAHA\")\n",
        "elif(num_1>num_2):\n",
        "    print(\"HOHO\")\n",
        "else:\n",
        "    print(\"HUHU\")"
      ],
      "execution_count": null,
      "outputs": [
        {
          "output_type": "stream",
          "name": "stdout",
          "text": [
            "HAHA\n"
          ]
        }
      ]
    },
    {
      "cell_type": "markdown",
      "metadata": {
        "id": "brNhQ4RUOFCy"
      },
      "source": [
        "## Functions\n",
        "A function is a piece of code that only executes when called. If a return statement is given, Python functions return a value."
      ]
    },
    {
      "cell_type": "code",
      "metadata": {
        "id": "ZJrKt7TKOHIo"
      },
      "source": [
        "#void DeleteUser (int userid){\n",
        "#   delete(userid):\n",
        "#}\n",
        "\n",
        "def delete_user (userid):\n",
        "    print(\"Successfully deleted user: {}\".format(userid))"
      ],
      "execution_count": null,
      "outputs": []
    },
    {
      "cell_type": "code",
      "metadata": {
        "colab": {
          "base_uri": "https://localhost:8080/"
        },
        "id": "6A5Q3INVOi2B",
        "outputId": "e5ab1e50-cd5f-4a7d-884c-d72a3a4c3184"
      },
      "source": [
        "userid = 2020_100100\n",
        "delete_user(2020_100100)"
      ],
      "execution_count": null,
      "outputs": [
        {
          "output_type": "stream",
          "name": "stdout",
          "text": [
            "Successfully deleted user: 2020100100\n"
          ]
        }
      ]
    },
    {
      "cell_type": "code",
      "metadata": {
        "id": "F8ZWRVbJO-Bm"
      },
      "source": [
        "addend1, addend2 = 5, 6"
      ],
      "execution_count": null,
      "outputs": []
    },
    {
      "cell_type": "code",
      "metadata": {
        "id": "BeIofRQ9O0sa"
      },
      "source": [
        "def add(addend1, addend2):\n",
        "  sum = addend1 + addend2\n",
        "  return sum\n"
      ],
      "execution_count": null,
      "outputs": []
    },
    {
      "cell_type": "code",
      "metadata": {
        "colab": {
          "base_uri": "https://localhost:8080/"
        },
        "id": "cpHkaJPDPsvt",
        "outputId": "fe653325-29b5-4231-9ca9-1451e1260994"
      },
      "source": [
        "add(3, 4)"
      ],
      "execution_count": null,
      "outputs": [
        {
          "output_type": "execute_result",
          "data": {
            "text/plain": [
              "7"
            ]
          },
          "metadata": {},
          "execution_count": 48
        }
      ]
    },
    {
      "cell_type": "code",
      "metadata": {
        "id": "ZwvYTM4QPr8i"
      },
      "source": [
        ""
      ],
      "execution_count": null,
      "outputs": []
    }
  ]
}