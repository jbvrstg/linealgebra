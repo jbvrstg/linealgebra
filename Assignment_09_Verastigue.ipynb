{
  "nbformat": 4,
  "nbformat_minor": 0,
  "metadata": {
    "colab": {
      "name": "Assignment_09_Verastigue.ipynb",
      "provenance": [],
      "collapsed_sections": [],
      "authorship_tag": "ABX9TyMmtMEEm87nU/fB1A2u8RSW",
      "include_colab_link": true
    },
    "kernelspec": {
      "name": "python3",
      "display_name": "Python 3"
    },
    "language_info": {
      "name": "python"
    }
  },
  "cells": [
    {
      "cell_type": "markdown",
      "metadata": {
        "id": "view-in-github",
        "colab_type": "text"
      },
      "source": [
        "<a href=\"https://colab.research.google.com/github/jbvrstg/linealgebra/blob/main/Assignment_09_Verastigue.ipynb\" target=\"_parent\"><img src=\"https://colab.research.google.com/assets/colab-badge.svg\" alt=\"Open In Colab\"/></a>"
      ]
    },
    {
      "cell_type": "markdown",
      "metadata": {
        "id": "Tl4gBYWao0q2"
      },
      "source": [
        "### Plotting Vector using NumPy and MatPlotLib"
      ]
    },
    {
      "cell_type": "markdown",
      "metadata": {
        "id": "H-2ZfLMSo4Fc"
      },
      "source": [
        "###Objectives\n",
        "At the end of this activity you will be able to:\n",
        "\n",
        "Be familiar with the libraries in Python for numerical and scientific programming.\n",
        "Visualize vectors through Python programming.\n",
        "Perform simple vector operations through code."
      ]
    },
    {
      "cell_type": "code",
      "metadata": {
        "id": "9ipx0F0RnYde"
      },
      "source": [
        "## Importing necessary libraries\n",
        "import numpy as np ## 'np' here is short-hand name of the library (numpy) or a nickname."
      ],
      "execution_count": 1,
      "outputs": []
    },
    {
      "cell_type": "code",
      "metadata": {
        "colab": {
          "base_uri": "https://localhost:8080/"
        },
        "id": "1Nbaw2PXpJxb",
        "outputId": "5919a6c3-fb4e-4a2b-b589-52271f36e901"
      },
      "source": [
        "A = np.array([4, 3])\n",
        "B = np.array([2, -5])\n",
        "C = np.array([\n",
        "              [4],\n",
        "              [3],\n",
        "              [-2]\n",
        "])\n",
        "D = np.array ([[2],\n",
        "              [-2],\n",
        "              [3]])\n",
        "print('Vector A is ', A)\n",
        "print('Vector B is ', B)\n",
        "print('Vector C is ', C)\n",
        "print('Vector D is ', D)"
      ],
      "execution_count": 2,
      "outputs": [
        {
          "output_type": "stream",
          "name": "stdout",
          "text": [
            "Vector A is  [4 3]\n",
            "Vector B is  [ 2 -5]\n",
            "Vector C is  [[ 4]\n",
            " [ 3]\n",
            " [-2]]\n",
            "Vector D is  [[ 2]\n",
            " [-2]\n",
            " [ 3]]\n"
          ]
        }
      ]
    },
    {
      "cell_type": "code",
      "metadata": {
        "colab": {
          "base_uri": "https://localhost:8080/"
        },
        "id": "XnZMNIVrpNlE",
        "outputId": "c91b97bc-96b1-4637-edfb-d191109667df"
      },
      "source": [
        "### Checking shapes\n",
        "### Shapes tells us how many elements are there on each row and column\n",
        "\n",
        "A.shape\n",
        "H = np.array([1, 0, 2, 5, -0.2, 0])\n",
        "H.shape\n",
        "C.shape"
      ],
      "execution_count": 3,
      "outputs": [
        {
          "output_type": "execute_result",
          "data": {
            "text/plain": [
              "(3, 1)"
            ]
          },
          "metadata": {},
          "execution_count": 3
        }
      ]
    },
    {
      "cell_type": "code",
      "metadata": {
        "colab": {
          "base_uri": "https://localhost:8080/"
        },
        "id": "IIrf25YepcHU",
        "outputId": "c82a5de8-932d-45f5-9a33-e238a7e14db1"
      },
      "source": [
        "### Checking size\n",
        "### Array/Vector sizes tells us many total number of elements are there in the vector\n",
        "\n",
        "D.size"
      ],
      "execution_count": 4,
      "outputs": [
        {
          "output_type": "execute_result",
          "data": {
            "text/plain": [
              "3"
            ]
          },
          "metadata": {},
          "execution_count": 4
        }
      ]
    },
    {
      "cell_type": "code",
      "metadata": {
        "colab": {
          "base_uri": "https://localhost:8080/"
        },
        "id": "fY9HS0zbpfZu",
        "outputId": "bba9f53f-1c06-4f59-a42c-2d380bceff36"
      },
      "source": [
        "### Checking dimensions\n",
        "### The dimensions or rank of a vector tells us how many dimensions are there for the vector.\n",
        "\n",
        "D.ndim"
      ],
      "execution_count": 5,
      "outputs": [
        {
          "output_type": "execute_result",
          "data": {
            "text/plain": [
              "2"
            ]
          },
          "metadata": {},
          "execution_count": 5
        }
      ]
    },
    {
      "cell_type": "markdown",
      "metadata": {
        "id": "-0rEf1hipt7A"
      },
      "source": [
        "###Addition"
      ]
    },
    {
      "cell_type": "code",
      "metadata": {
        "id": "JZbZRnf6puLb"
      },
      "source": [
        "R = np.add(A, B) ## this is the functional method usisng the numpy library\n",
        "P = np.add(C, D)"
      ],
      "execution_count": 6,
      "outputs": []
    },
    {
      "cell_type": "code",
      "metadata": {
        "colab": {
          "base_uri": "https://localhost:8080/"
        },
        "id": "12dPbydYpvEu",
        "outputId": "36874b35-7165-4f02-f307-3effded7c000"
      },
      "source": [
        "R = A + B   ## this is the explicit method, since Python does a value-reference so it can \n",
        "            ## know that these variables would need to do array operations.\n",
        "R\n"
      ],
      "execution_count": 7,
      "outputs": [
        {
          "output_type": "execute_result",
          "data": {
            "text/plain": [
              "array([ 6, -2])"
            ]
          },
          "metadata": {},
          "execution_count": 7
        }
      ]
    },
    {
      "cell_type": "code",
      "metadata": {
        "colab": {
          "base_uri": "https://localhost:8080/"
        },
        "id": "502cnagkpyWk",
        "outputId": "a23a5974-93ef-4fb8-d3d9-d606d4a40e9e"
      },
      "source": [
        "pos1 = np.array([0,0,0])\n",
        "pos2 = np.array([0,1,3])\n",
        "pos3 = np.array([1,5,-2])\n",
        "pos4 = np.array([5,-3,3])\n",
        "#R = pos1 + pos2 + pos3 + pos4\n",
        "#R = np.multiply(pos3, pos4)\n",
        "R = pos3 / pos4\n",
        "R"
      ],
      "execution_count": 8,
      "outputs": [
        {
          "output_type": "execute_result",
          "data": {
            "text/plain": [
              "array([ 0.2       , -1.66666667, -0.66666667])"
            ]
          },
          "metadata": {},
          "execution_count": 8
        }
      ]
    },
    {
      "cell_type": "markdown",
      "metadata": {
        "id": "_h8Ee9YJp7uc"
      },
      "source": [
        "###Scaling"
      ]
    },
    {
      "cell_type": "code",
      "metadata": {
        "colab": {
          "base_uri": "https://localhost:8080/"
        },
        "id": "l_3H9oXvp9eH",
        "outputId": "1a1480d3-673d-4622-9b02-437f3b559a73"
      },
      "source": [
        "#S = 5 * A\n",
        "S = np.multiply(5,A)\n",
        "S"
      ],
      "execution_count": 9,
      "outputs": [
        {
          "output_type": "execute_result",
          "data": {
            "text/plain": [
              "array([20, 15])"
            ]
          },
          "metadata": {},
          "execution_count": 9
        }
      ]
    },
    {
      "cell_type": "markdown",
      "metadata": {
        "id": "gSAQuUgSqLPE"
      },
      "source": [
        "###MatPlotLib"
      ]
    },
    {
      "cell_type": "code",
      "metadata": {
        "id": "NiZVY96eqNoB"
      },
      "source": [
        "import matplotlib.pyplot as plt\n",
        "import matplotlib\n",
        "%matplotlib inline"
      ],
      "execution_count": 10,
      "outputs": []
    },
    {
      "cell_type": "code",
      "metadata": {
        "colab": {
          "base_uri": "https://localhost:8080/",
          "height": 265
        },
        "id": "k1gl9vysqRJ0",
        "outputId": "a49206ff-c5e3-49b7-8017-05e0d1565874"
      },
      "source": [
        "A = [1, -1]\n",
        "B = [5, -1]\n",
        "plt.scatter(A[0], A[1], label='A', c='green')\n",
        "plt.scatter(B[0], B[1], label='B', c='magenta')\n",
        "plt.grid()\n",
        "plt.legend()\n",
        "plt.show()"
      ],
      "execution_count": 11,
      "outputs": [
        {
          "output_type": "display_data",
          "data": {
            "image/png": "[encoded data removed]",
            "text/plain": [
              "<Figure size 432x288 with 1 Axes>"
            ]
          },
          "metadata": {
            "needs_background": "light"
          }
        }
      ]
    },
    {
      "cell_type": "code",
      "metadata": {
        "colab": {
          "base_uri": "https://localhost:8080/",
          "height": 365
        },
        "id": "KlzK7z1SqVYd",
        "outputId": "2765b38b-5514-44fe-e267-855384585394"
      },
      "source": [
        "A = np.array([1,-1])\n",
        "B = np.array([1,5])\n",
        "R = A + B\n",
        "Magnitude = np.sqrt(np.sum(R**2))\n",
        "plt.title(\"Resultant Vector\\nMagnitude:{}\".format(Magnitude))\n",
        "plt.xlim(-5,5)\n",
        "plt.ylim(-5,5)\n",
        "plt.quiver(0, 0, A[0], A[1], angles='xy', scale_units='xy', scale=1, label='A', color='red')\n",
        "plt.quiver(A[0], A[1], B[0], B[1], angles = 'xy',scale_units='xy', scale=1, label='B', color='green')\n",
        "R = A + B\n",
        "plt.quiver(0 ,0, R[0], R[1],angles='xy', scale_units='xy', scale=1, label='R', color='black')\n",
        "plt.grid()\n",
        "plt.legend()\n",
        "plt.show()\n",
        "print(R)\n",
        "Magnitude = np.sqrt(np.sum(R**2))\n",
        "print(Magnitude)\n",
        "Slope = R[1]/R[0]\n",
        "print(Slope)\n",
        "Angle = (np.arctan(Slope))*(180/np.pi)\n",
        "print(Angle)"
      ],
      "execution_count": 12,
      "outputs": [
        {
          "output_type": "display_data",
          "data": {
            "image/png": "[encoded data removed]",
            "text/plain": [
              "<Figure size 432x288 with 1 Axes>"
            ]
          },
          "metadata": {
            "needs_background": "light"
          }
        },
        {
          "output_type": "stream",
          "name": "stdout",
          "text": [
            "[2 4]\n",
            "4.47213595499958\n",
            "2.0\n",
            "63.43494882292201\n"
          ]
        }
      ]
    },
    {
      "cell_type": "code",
      "metadata": {
        "colab": {
          "base_uri": "https://localhost:8080/",
          "height": 269
        },
        "id": "aN6V7-Y4qcpS",
        "outputId": "6f71b3ae-4fcc-4501-cd1f-86fe47b72aa4"
      },
      "source": [
        "n = A.shape[0]\n",
        "plt.xlim(-10, 10)\n",
        "plt.ylim(-10, 10)\n",
        "plt.quiver(0,0, A[0], A[1], angles='xy', scale_units='xy',scale=1)\n",
        "plt.quiver(A[0],A[1], B[0], B[1], angles='xy', scale_units='xy',scale=1)\n",
        "plt.quiver(0,0, R[0], R[1], angles='xy', scale_units='xy',scale=1)\n",
        "plt.show()"
      ],
      "execution_count": 13,
      "outputs": [
        {
          "output_type": "display_data",
          "data": {
            "image/png": "[encoded data removed]",
            "text/plain": [
              "<Figure size 432x288 with 1 Axes>"
            ]
          },
          "metadata": {
            "needs_background": "light"
          }
        }
      ]
    },
    {
      "cell_type": "markdown",
      "metadata": {
        "id": "y9zpzowCzeZr"
      },
      "source": [
        "###Try for Yourself\n",
        "Try to implement Subtraction, Multiplication, and Division with Vectors A and B.\n",
        "$$ A = \\begin{bmatrix} 2\\\\ 8\\end{bmatrix} , B = \\begin{bmatrix} 0 \\\\ 2\\end{bmatrix}\n",
        "$$"
      ]
    },
    {
      "cell_type": "code",
      "metadata": {
        "id": "UOrrRp7-zqvO"
      },
      "source": [
        "A1 = np.array([\n",
        "              [2],\n",
        "              [8]\n",
        "])\n",
        "B2 = np.array ([\n",
        "              [0],\n",
        "              [2]\n",
        "])"
      ],
      "execution_count": 21,
      "outputs": []
    },
    {
      "cell_type": "code",
      "metadata": {
        "colab": {
          "base_uri": "https://localhost:8080/"
        },
        "id": "nTk4Duei0Esx",
        "outputId": "d3339a9b-9bf1-479c-d7cd-4bd9f168b9b1"
      },
      "source": [
        "J1 = np.add(A1, B2)\n",
        "J1"
      ],
      "execution_count": 22,
      "outputs": [
        {
          "output_type": "execute_result",
          "data": {
            "text/plain": [
              "array([[ 2],\n",
              "       [10]])"
            ]
          },
          "metadata": {},
          "execution_count": 22
        }
      ]
    },
    {
      "cell_type": "code",
      "metadata": {
        "colab": {
          "base_uri": "https://localhost:8080/"
        },
        "id": "k-yF59KV0RXC",
        "outputId": "4cbf92de-0365-4ed5-850b-871afcc48613"
      },
      "source": [
        "JB1 = np.subtract(A1, B2)\n",
        "JB1"
      ],
      "execution_count": 23,
      "outputs": [
        {
          "output_type": "execute_result",
          "data": {
            "text/plain": [
              "array([[2],\n",
              "       [6]])"
            ]
          },
          "metadata": {},
          "execution_count": 23
        }
      ]
    },
    {
      "cell_type": "code",
      "metadata": {
        "colab": {
          "base_uri": "https://localhost:8080/"
        },
        "id": "nDL2GZsN0W-Z",
        "outputId": "475b8334-aa27-4272-b151-1e85e99476d1"
      },
      "source": [
        "JEBS = np.multiply(A1, B2)\n",
        "JEBS"
      ],
      "execution_count": 24,
      "outputs": [
        {
          "output_type": "execute_result",
          "data": {
            "text/plain": [
              "array([[ 0],\n",
              "       [16]])"
            ]
          },
          "metadata": {},
          "execution_count": 24
        }
      ]
    },
    {
      "cell_type": "code",
      "metadata": {
        "colab": {
          "base_uri": "https://localhost:8080/"
        },
        "id": "rWE_gbnH0h7n",
        "outputId": "b82b53f2-8661-429a-f70f-720a8e1eae4a"
      },
      "source": [
        "JEBI = np.divide(A1, B2)\n",
        "JEBI"
      ],
      "execution_count": 25,
      "outputs": [
        {
          "output_type": "stream",
          "name": "stderr",
          "text": [
            "/usr/local/lib/python3.7/dist-packages/ipykernel_launcher.py:1: RuntimeWarning: divide by zero encountered in true_divide\n",
            "  \"\"\"Entry point for launching an IPython kernel.\n"
          ]
        },
        {
          "output_type": "execute_result",
          "data": {
            "text/plain": [
              "array([[inf],\n",
              "       [ 4.]])"
            ]
          },
          "metadata": {},
          "execution_count": 25
        }
      ]
    },
    {
      "cell_type": "markdown",
      "metadata": {
        "id": "Y_fZyYQb0_Rs"
      },
      "source": [
        "###Scaling"
      ]
    },
    {
      "cell_type": "code",
      "metadata": {
        "colab": {
          "base_uri": "https://localhost:8080/"
        },
        "id": "UZJoO1rv0m74",
        "outputId": "4e5d3b6e-f49f-428c-ae85-54b1fe2f6d85"
      },
      "source": [
        "J = 8 * A\n",
        "J = np.multiply(5,A)\n",
        "J"
      ],
      "execution_count": 26,
      "outputs": [
        {
          "output_type": "execute_result",
          "data": {
            "text/plain": [
              "array([ 5, -5])"
            ]
          },
          "metadata": {},
          "execution_count": 26
        }
      ]
    },
    {
      "cell_type": "code",
      "metadata": {
        "colab": {
          "base_uri": "https://localhost:8080/"
        },
        "id": "RYHc83KV1HCy",
        "outputId": "4d78d765-7c1f-4cc6-d02b-7f8359423daf"
      },
      "source": [
        "V = np.multiply(6,A1)\n",
        "V"
      ],
      "execution_count": 27,
      "outputs": [
        {
          "output_type": "execute_result",
          "data": {
            "text/plain": [
              "array([[12],\n",
              "       [48]])"
            ]
          },
          "metadata": {},
          "execution_count": 27
        }
      ]
    },
    {
      "cell_type": "code",
      "metadata": {
        "colab": {
          "base_uri": "https://localhost:8080/"
        },
        "id": "i98Ui7Ur1M9a",
        "outputId": "88b3c882-3d4d-447b-f8eb-71534486f5e7"
      },
      "source": [
        "\n",
        "S = np.multiply(5,B2)\n",
        "S\n"
      ],
      "execution_count": 28,
      "outputs": [
        {
          "output_type": "execute_result",
          "data": {
            "text/plain": [
              "array([[ 0],\n",
              "       [10]])"
            ]
          },
          "metadata": {},
          "execution_count": 28
        }
      ]
    },
    {
      "cell_type": "markdown",
      "metadata": {
        "id": "aluBaxnt19k1"
      },
      "source": [
        "###MatPlotLib"
      ]
    },
    {
      "cell_type": "code",
      "metadata": {
        "id": "EDTUtUkZ1_0r"
      },
      "source": [
        "import matplotlib.pyplot as plt\n",
        "import matplotlib\n",
        "%matplotlib inline"
      ],
      "execution_count": 29,
      "outputs": []
    },
    {
      "cell_type": "code",
      "metadata": {
        "colab": {
          "base_uri": "https://localhost:8080/",
          "height": 265
        },
        "id": "n6rVsXNQ2CrY",
        "outputId": "466f7d8e-9fa1-4bf6-c4f8-e349702ac701"
      },
      "source": [
        "A = [2,3]\n",
        "B = [8,1]\n",
        "plt.scatter(A[1], A[0], label='A', c='blue')\n",
        "plt.scatter(B[1], B[0], label = 'B', c='red')\n",
        "plt.grid()\n",
        "plt.legend()\n",
        "plt.show()"
      ],
      "execution_count": 30,
      "outputs": [
        {
          "output_type": "display_data",
          "data": {
            "image/png": "[encoded data removed]",
            "text/plain": [
              "<Figure size 432x288 with 1 Axes>"
            ]
          },
          "metadata": {
            "needs_background": "light"
          }
        }
      ]
    },
    {
      "cell_type": "code",
      "metadata": {
        "colab": {
          "base_uri": "https://localhost:8080/",
          "height": 365
        },
        "id": "WTj8HK_O2VCz",
        "outputId": "33e62a25-1941-4981-c2cf-d0afa4b339be"
      },
      "source": [
        "A = np.array([1,-1])\n",
        "B = np.array([1,5])\n",
        "plt.title(\"Resultant Vector\\nMagnitude:{}\" .format(Magnitude))\n",
        "plt.xlim(-5,5)\n",
        "plt.ylim(-5,5)\n",
        "plt.quiver(0, 0, A[0], A[1], angles='xy', scale_units='xy', scale=1, color='red')\n",
        "plt.quiver(A[0], A[1], B[0], B[1], angles='xy', scale_units='xy', scale=1, color='yellow')\n",
        "R = A + B \n",
        "plt.quiver(0,0, R[0], R[1], angles='xy', scale_units='xy', scale=1, color='black' )\n",
        "plt.grid()\n",
        "plt.show()\n",
        "print(R)\n",
        "Magnitude = np.sqrt(np.sum(R**2))\n",
        "print(Magnitude)\n",
        "Slope = R[1]/R[0] \n",
        "print(Slope)\n",
        "Angle = np.arctan(Slope)*(180/np.pi)\n",
        "print(Angle)"
      ],
      "execution_count": 34,
      "outputs": [
        {
          "output_type": "display_data",
          "data": {
            "image/png": "[encoded data removed]",
            "text/plain": [
              "<Figure size 432x288 with 1 Axes>"
            ]
          },
          "metadata": {
            "needs_background": "light"
          }
        },
        {
          "output_type": "stream",
          "name": "stdout",
          "text": [
            "[2 4]\n",
            "4.47213595499958\n",
            "2.0\n",
            "63.43494882292201\n"
          ]
        }
      ]
    },
    {
      "cell_type": "code",
      "metadata": {
        "colab": {
          "base_uri": "https://localhost:8080/",
          "height": 265
        },
        "id": "4DLnXQt22y2k",
        "outputId": "3180f903-07e2-42b6-cbd5-b058409d1bee"
      },
      "source": [
        "n = A.shape [0]\n",
        "plt.xlim(-5, 5)\n",
        "plt.ylim(-5, 5)\n",
        "plt.quiver(0,0, A[0], A[1], angles='xy', scale_units='xy', scale=1)\n",
        "plt.quiver(A[0],A[1], B[0], B[1], angles='xy', scale_units='xy',scale=1)\n",
        "plt.quiver(0,0, R[0], R[1], angles='xy', scale_units='xy',scale=1)\n",
        "plt.show()"
      ],
      "execution_count": 40,
      "outputs": [
        {
          "output_type": "display_data",
          "data": {
            "image/png": "[encoded data removed]",
            "text/plain": [
              "<Figure size 432x288 with 1 Axes>"
            ]
          },
          "metadata": {
            "needs_background": "light"
          }
        }
      ]
    },
    {
      "cell_type": "code",
      "metadata": {
        "colab": {
          "base_uri": "https://localhost:8080/",
          "height": 365
        },
        "id": "NlDo19-f3OpU",
        "outputId": "35b6d9ee-da61-4b71-d2d9-c3c33f058378"
      },
      "source": [
        "\n",
        "A = np.array([0, 5])\n",
        "B = np.array([3, 5])\n",
        "C = np.array([4, 1])\n",
        "plt.title(\"Resultant Vector\\nMagnitude:{}\")\n",
        "plt.xlim(-10, 20)\n",
        "plt.ylim(-10, 20)\n",
        "plt.quiver(0, 0, A[0], A[1], angles='xy', scale_units='xy', scale=1, color='black')\n",
        "plt.quiver(A[0], A[1], B[0], B[1], angles='xy', scale_units='xy', scale=1, color='red')\n",
        "plt.quiver(3, 10, C[0], C[1], angles='xy', scale_units='xy', scale=1, color='yellow')\n",
        "R = A + B + C\n",
        "plt.quiver(0, 0, R[0], R[1], angles='xy', scale_units='xy', scale=1, color='blue')\n",
        "plt.grid()\n",
        "plt.show()\n",
        "print(R)\n",
        "Magnitude = np.sqrt(np.sum(R**2))\n",
        "print(Magnitude)\n",
        "Slope = R[1]/R[0]\n",
        "print(Slope)\n",
        "Angle = (np.arctan(Slope))*(180/np.pi)\n",
        "print(Angle)"
      ],
      "execution_count": 58,
      "outputs": [
        {
          "output_type": "display_data",
          "data": {
            "image/png": "[encoded data removed]",
            "text/plain": [
              "<Figure size 432x288 with 1 Axes>"
            ]
          },
          "metadata": {
            "needs_background": "light"
          }
        },
        {
          "output_type": "stream",
          "name": "stdout",
          "text": [
            "[ 7 11]\n",
            "13.038404810405298\n",
            "1.5714285714285714\n",
            "57.52880770915151\n"
          ]
        }
      ]
    },
    {
      "cell_type": "markdown",
      "metadata": {
        "id": "MG5KCYYV7JUQ"
      },
      "source": [
        "![256523562_1473233256396453_5555765998724466200_n.jpg](data:image/jpeg;base64,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)"
      ]
    },
    {
      "cell_type": "markdown",
      "metadata": {
        "id": "UPbUvgFe5fTM"
      },
      "source": [
        "###Conclusion\n",
        "Throughout the laboratory experiment, I've come to the conclusion that python is extremely useful for engineering students who are new to programming. We, as engineering students, discovered that each of the basic elements of pythons has its own distinct characteristics and functions. Python is simple to use because if you have an error, Python will show you which code has the problem or error. NumPy and MatPlotLib is very useful to us future engineers because NumPy is a Python library that allows you to do scientific computations and mathematical operations. Lists aren't quite as powerful as NumPy, it do lessen the time we consume on a specific task like plotting the vectors. "
      ]
    }
  ]
}