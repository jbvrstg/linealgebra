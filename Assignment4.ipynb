{
  "nbformat": 4,
  "nbformat_minor": 0,
  "metadata": {
    "colab": {
      "name": "Assignment4.ipynb",
      "provenance": [],
      "collapsed_sections": [],
      "include_colab_link": true
    },
    "kernelspec": {
      "name": "python3",
      "display_name": "Python 3"
    },
    "language_info": {
      "name": "python"
    }
  },
  "cells": [
    {
      "cell_type": "markdown",
      "metadata": {
        "id": "view-in-github",
        "colab_type": "text"
      },
      "source": [
        "<a href=\"https://colab.research.google.com/github/jbvrstg/linealgebra/blob/main/Assignment4.ipynb\" target=\"_parent\"><img src=\"https://colab.research.google.com/assets/colab-badge.svg\" alt=\"Open In Colab\"/></a>"
      ]
    },
    {
      "cell_type": "markdown",
      "metadata": {
        "id": "NQUwQQs08GAG"
      },
      "source": [
        "###Linear ALgebra for ECE\n"
      ]
    },
    {
      "cell_type": "markdown",
      "metadata": {
        "id": "ssR1PXHh9Vid"
      },
      "source": [
        "###Laboratory 4 : Matrices\n",
        "\n",
        "Now that you have fundamental knowledge about Python, we'll try to look into greater dimensions."
      ]
    },
    {
      "cell_type": "markdown",
      "metadata": {
        "id": "2P1mm1ea9o0m"
      },
      "source": [
        "###Objectives\n",
        "\n",
        "At the end of this activity you will be able to:\n",
        "\n",
        "\n",
        "1.   Be familiar with matrices and their relation to linear equations.\n",
        "2.   Perform basic matrix operations.\n",
        "3.    Program and translate matrix equations and operations using Python.\n",
        "\n"
      ]
    },
    {
      "cell_type": "markdown",
      "metadata": {
        "id": "AGNuBgfT-Hva"
      },
      "source": [
        "###Discussion"
      ]
    },
    {
      "cell_type": "code",
      "metadata": {
        "id": "ak65QfsL-Kuu"
      },
      "source": [
        "import numpy as np\n",
        "import matplotlib.pyplot as plt\n",
        "import scipy.linalg as la\n",
        "%matplotlib inline"
      ],
      "execution_count": null,
      "outputs": []
    },
    {
      "cell_type": "markdown",
      "metadata": {
        "id": "qpwIVznrcP-J"
      },
      "source": [
        "$$\n",
        "A = \\left\\{\n",
        "    \\begin{array}\\\n",
        "        x_1 + y \\\\ \n",
        "        4x - 10y\n",
        "    \\end{array}\n",
        "\\right. \\\\\n",
        "B = \\left\\{\n",
        "    \\begin{array}\\\n",
        "        x+y+z \\\\ \n",
        "        3x -2y -z \\\\\n",
        "        -x + 4y +2z\n",
        "    \\end{array}\n",
        "\\right. $$"
      ]
    },
    {
      "cell_type": "markdown",
      "metadata": {
        "id": "_H0jUxCMcEws"
      },
      "source": [
        "$$A=\\begin{bmatrix}\n",
        "a_{(0,0)}&a_{(0,1)}&\\dots&a_{(0,j-1)}\\\\\n",
        "a_{(1,0)}&a_{(1,1)}&\\dots&a_{(1,j-1)}\\\\\n",
        "\\vdots&\\vdots&\\ddots&\\vdots&\\\\\n",
        "a_{(i-1,0)}&a_{(i-1,1)}&\\dots&a_{(i-1,j-1)}\n",
        "\\end{bmatrix}\n",
        "$$"
      ]
    },
    {
      "cell_type": "code",
      "metadata": {
        "id": "RVowTr0aZS0-"
      },
      "source": [
        "def describe_mat(matrix):\n",
        "    print(f'Matrix:\\n{matrix}\\n\\nShape:\\t{matrix.shape}\\nRank:\\t{matrix.ndim}\\n')"
      ],
      "execution_count": null,
      "outputs": []
    },
    {
      "cell_type": "code",
      "metadata": {
        "colab": {
          "base_uri": "https://localhost:8080/"
        },
        "id": "TePEp72jZW53",
        "outputId": "75da85e0-bb80-44c1-ad0c-77abb0a038a3"
      },
      "source": [
        "A = np.array([\n",
        "      [1, 2],\n",
        "      [3, 10]        \n",
        "])\n",
        "describe_mat(A)"
      ],
      "execution_count": null,
      "outputs": [
        {
          "output_type": "stream",
          "name": "stdout",
          "text": [
            "Matrix:\n",
            "[[ 1  2]\n",
            " [ 3 10]]\n",
            "\n",
            "Shape:\t(2, 2)\n",
            "Rank:\t2\n",
            "\n"
          ]
        }
      ]
    },
    {
      "cell_type": "code",
      "metadata": {
        "colab": {
          "base_uri": "https://localhost:8080/"
        },
        "id": "Hi8VrqRbZhV8",
        "outputId": "2dc58595-5982-4944-826e-9ee03d250d08"
      },
      "source": [
        "B = np.array([[\n",
        "      [8, 2],\n",
        "      [5, 4],\n",
        "      [7, 7]        \n",
        "]])\n",
        "describe_mat(B)"
      ],
      "execution_count": null,
      "outputs": [
        {
          "output_type": "stream",
          "name": "stdout",
          "text": [
            "Matrix:\n",
            "[[[8 2]\n",
            "  [5 4]\n",
            "  [7 7]]]\n",
            "\n",
            "Shape:\t(1, 3, 2)\n",
            "Rank:\t3\n",
            "\n"
          ]
        }
      ]
    },
    {
      "cell_type": "code",
      "metadata": {
        "id": "S2wzQCYVZlMo"
      },
      "source": [
        "def describe_mat(matrix):\n",
        "    is_square = True if matrix.shape[0] == matrix.shape[1] else False\n",
        "    print(f'Matrix:\\n{matrix}\\n\\nShape:\\t{matrix.shape}\\nRank:\\t{matrix.ndim}\\nIs Square:{is_square}\\n')"
      ],
      "execution_count": null,
      "outputs": []
    },
    {
      "cell_type": "code",
      "metadata": {
        "colab": {
          "base_uri": "https://localhost:8080/"
        },
        "id": "wU78xnOsZsuK",
        "outputId": "fb76d258-457e-42c7-c264-5546eedcc452"
      },
      "source": [
        "square_mat = np.array([\n",
        "    [1,2,5],\n",
        "    [3,3,8],\n",
        "    [6,1,2]\n",
        "])\n",
        "\n",
        "non_square_mat = np.array([\n",
        "     [1,2,5],\n",
        "     [3,3,8]                       \n",
        "])\n",
        "describe_mat(square_mat)\n",
        "describe_mat(non_square_mat)"
      ],
      "execution_count": null,
      "outputs": [
        {
          "output_type": "stream",
          "name": "stdout",
          "text": [
            "Matrix:\n",
            "[[1 2 5]\n",
            " [3 3 8]\n",
            " [6 1 2]]\n",
            "\n",
            "Shape:\t(3, 3)\n",
            "Rank:\t2\n",
            "Is Square:True\n",
            "\n",
            "Matrix:\n",
            "[[1 2 5]\n",
            " [3 3 8]]\n",
            "\n",
            "Shape:\t(2, 3)\n",
            "Rank:\t2\n",
            "Is Square:False\n",
            "\n"
          ]
        }
      ]
    },
    {
      "cell_type": "markdown",
      "metadata": {
        "id": "yU8ffr1xZ0oU"
      },
      "source": [
        "###Null Matrix"
      ]
    },
    {
      "cell_type": "code",
      "metadata": {
        "id": "TIMk6-aKZxaL"
      },
      "source": [
        "def describe_mat(matrix):\n",
        "  if matrix.size < 0:\n",
        "    is_square = True if matrix.shape[0] == matrix.shape[1] else False\n",
        "    print(f'Matrix:\\n{matrix}\\n\\nShape:\\t{matrix.shape}\\nRank:\\t{matrix.ndim}\\nIs Square:{is_square}\\n')\n",
        "  else:\n",
        "    print('Matrix is Null')"
      ],
      "execution_count": null,
      "outputs": []
    },
    {
      "cell_type": "code",
      "metadata": {
        "colab": {
          "base_uri": "https://localhost:8080/"
        },
        "id": "PaXoHUyPZ9do",
        "outputId": "e7168690-fde2-4658-ffbf-0c3ece6d374f"
      },
      "source": [
        "null_mat = np.array([])\n",
        "describe_mat(null_mat)"
      ],
      "execution_count": null,
      "outputs": [
        {
          "output_type": "stream",
          "name": "stdout",
          "text": [
            "Matrix is Null\n"
          ]
        }
      ]
    },
    {
      "cell_type": "markdown",
      "metadata": {
        "id": "qpzGqtLhaDin"
      },
      "source": [
        "###Zero Matrix"
      ]
    },
    {
      "cell_type": "code",
      "metadata": {
        "colab": {
          "base_uri": "https://localhost:8080/"
        },
        "id": "qmaSzEFVaIN3",
        "outputId": "4ce54818-87a1-403c-ea80-8f38d91503ad"
      },
      "source": [
        "zero_mat_row = np.zeros((1,2))\n",
        "zero_mat_sqr = np.zeros((2,2))\n",
        "zero_mat_rct = np.zeros((3,2))\n",
        "\n",
        "print(f'zero Row Matrix: \\n{zero_mat_row}')\n",
        "print(f'zero Row Matrix: \\n{zero_mat_sqr}')\n",
        "print(f'zero Row Matrix: \\n{zero_mat_rct}')"
      ],
      "execution_count": null,
      "outputs": [
        {
          "output_type": "stream",
          "name": "stdout",
          "text": [
            "zero Row Matrix: \n",
            "[[0. 0.]]\n",
            "zero Row Matrix: \n",
            "[[0. 0.]\n",
            " [0. 0.]]\n",
            "zero Row Matrix: \n",
            "[[0. 0.]\n",
            " [0. 0.]\n",
            " [0. 0.]]\n"
          ]
        }
      ]
    },
    {
      "cell_type": "markdown",
      "metadata": {
        "id": "JHb3nymOaMBy"
      },
      "source": [
        "###Ones Matrix"
      ]
    },
    {
      "cell_type": "code",
      "metadata": {
        "colab": {
          "base_uri": "https://localhost:8080/"
        },
        "id": "qPS4FJRDaNyC",
        "outputId": "79b438f5-5c07-4ff7-c3b1-191b7432e208"
      },
      "source": [
        "zero_mat_row = np.ones((1,2))\n",
        "zero_mat_sqr = np.ones((2,2))\n",
        "zero_mat_rct = np.ones((3,2))\n",
        "\n",
        "print(f'zero Row Matrix: \\n{zero_mat_row}')\n",
        "print(f'zero Row Matrix: \\n{zero_mat_sqr}')\n",
        "print(f'zero Row Matrix: \\n{zero_mat_rct}')"
      ],
      "execution_count": null,
      "outputs": [
        {
          "output_type": "stream",
          "name": "stdout",
          "text": [
            "zero Row Matrix: \n",
            "[[1. 1.]]\n",
            "zero Row Matrix: \n",
            "[[1. 1.]\n",
            " [1. 1.]]\n",
            "zero Row Matrix: \n",
            "[[1. 1.]\n",
            " [1. 1.]\n",
            " [1. 1.]]\n"
          ]
        }
      ]
    },
    {
      "cell_type": "markdown",
      "metadata": {
        "id": "Adp4xKQlaS3R"
      },
      "source": [
        "###Diagonal Matrix"
      ]
    },
    {
      "cell_type": "code",
      "metadata": {
        "colab": {
          "base_uri": "https://localhost:8080/"
        },
        "id": "-noZ3S-0aVER",
        "outputId": "b8d18238-a99e-4932-bef3-930dc89f9d36"
      },
      "source": [
        "np.array([\n",
        "      [2,0,0],\n",
        "      [0,3,0],\n",
        "      [0,0,5]\n",
        "])\n"
      ],
      "execution_count": null,
      "outputs": [
        {
          "output_type": "execute_result",
          "data": {
            "text/plain": [
              "array([[2, 0, 0],\n",
              "       [0, 3, 0],\n",
              "       [0, 0, 5]])"
            ]
          },
          "metadata": {},
          "execution_count": 12
        }
      ]
    },
    {
      "cell_type": "markdown",
      "metadata": {
        "id": "EfVnqg8qaYWn"
      },
      "source": [
        "###Identity Matrix"
      ]
    },
    {
      "cell_type": "code",
      "metadata": {
        "colab": {
          "base_uri": "https://localhost:8080/"
        },
        "id": "xatszoC7abn9",
        "outputId": "e7f7f905-1e29-4ec0-dec6-9a7ce7003a90"
      },
      "source": [
        "np.eye(5)"
      ],
      "execution_count": null,
      "outputs": [
        {
          "output_type": "execute_result",
          "data": {
            "text/plain": [
              "array([[1., 0., 0., 0., 0.],\n",
              "       [0., 1., 0., 0., 0.],\n",
              "       [0., 0., 1., 0., 0.],\n",
              "       [0., 0., 0., 1., 0.],\n",
              "       [0., 0., 0., 0., 1.]])"
            ]
          },
          "metadata": {},
          "execution_count": 13
        }
      ]
    },
    {
      "cell_type": "code",
      "metadata": {
        "colab": {
          "base_uri": "https://localhost:8080/"
        },
        "id": "NIZhI7XtaeQG",
        "outputId": "4dd2fd7a-dd5f-4a8b-a96e-ec7689f9dada"
      },
      "source": [
        "np.identity(5)"
      ],
      "execution_count": null,
      "outputs": [
        {
          "output_type": "execute_result",
          "data": {
            "text/plain": [
              "array([[1., 0., 0., 0., 0.],\n",
              "       [0., 1., 0., 0., 0.],\n",
              "       [0., 0., 1., 0., 0.],\n",
              "       [0., 0., 0., 1., 0.],\n",
              "       [0., 0., 0., 0., 1.]])"
            ]
          },
          "metadata": {},
          "execution_count": 14
        }
      ]
    },
    {
      "cell_type": "markdown",
      "metadata": {
        "id": "R38asFaNbGWg"
      },
      "source": [
        "###Upper Triangular Matrix"
      ]
    },
    {
      "cell_type": "code",
      "metadata": {
        "colab": {
          "base_uri": "https://localhost:8080/"
        },
        "id": "lNwethkXbLH1",
        "outputId": "1a384dfb-bdab-423e-82e4-8a4a2766a721"
      },
      "source": [
        "np.array([\n",
        "      [2,1,3],\n",
        "      [0,3,1],\n",
        "      [0,0,5]\n",
        "])\n"
      ],
      "execution_count": null,
      "outputs": [
        {
          "output_type": "execute_result",
          "data": {
            "text/plain": [
              "array([[2, 1, 3],\n",
              "       [0, 3, 1],\n",
              "       [0, 0, 5]])"
            ]
          },
          "metadata": {},
          "execution_count": 15
        }
      ]
    },
    {
      "cell_type": "markdown",
      "metadata": {
        "id": "LBABLETxbcpK"
      },
      "source": [
        "###Lower Triangular Matrix"
      ]
    },
    {
      "cell_type": "code",
      "metadata": {
        "colab": {
          "base_uri": "https://localhost:8080/"
        },
        "id": "BRk7mDi0bP_n",
        "outputId": "1af3afa9-0d3b-42f0-98d6-59fcb34440bf"
      },
      "source": [
        "np.array([\n",
        "      [5,0,0],\n",
        "      [1,3,0],\n",
        "      [1,2,3]\n",
        "])"
      ],
      "execution_count": null,
      "outputs": [
        {
          "output_type": "execute_result",
          "data": {
            "text/plain": [
              "array([[5, 0, 0],\n",
              "       [1, 3, 0],\n",
              "       [1, 2, 3]])"
            ]
          },
          "metadata": {},
          "execution_count": 16
        }
      ]
    },
    {
      "cell_type": "markdown",
      "metadata": {
        "id": "9RN0T3aFbiXn"
      },
      "source": [
        "###Practice"
      ]
    },
    {
      "cell_type": "code",
      "metadata": {
        "colab": {
          "base_uri": "https://localhost:8080/"
        },
        "id": "QXGCdqXHbmQJ",
        "outputId": "178af752-76a0-4a18-96b8-1abb55173985"
      },
      "source": [
        "np.array([\n",
        "    [1, 4, -7]\n",
        "])\n"
      ],
      "execution_count": null,
      "outputs": [
        {
          "output_type": "execute_result",
          "data": {
            "text/plain": [
              "array([[ 1,  4, -7]])"
            ]
          },
          "metadata": {},
          "execution_count": 17
        }
      ]
    },
    {
      "cell_type": "markdown",
      "metadata": {
        "id": "_MEZx6DhcXzh"
      },
      "source": [
        "$$\n",
        "\n",
        "*   List item\n",
        "*   List item\n",
        "\n",
        "\n",
        "G = \\left\\{\n",
        "    \\begin{array}\\\n",
        "        x_1 + 7x_2 + 8x_3\\\\ \n",
        "        2x_1 + 2x_2 + 2x_3\\\\\n",
        "        4x_1 + 6x_2 + 7_3\n",
        "    \\end{array}\n",
        "\\right.$$"
      ]
    },
    {
      "cell_type": "markdown",
      "metadata": {
        "id": "DAwhpZeqceYv"
      },
      "source": [
        "G = \\begin{bmatrix} 1 & 7 & 8 \\\\ 2 & 2 & 2 \\\\ 4 & 6 & 7\\end{bmatrix}"
      ]
    },
    {
      "cell_type": "markdown",
      "metadata": {
        "id": "6tR1gvWcclFa"
      },
      "source": [
        "###Matrix Algebra"
      ]
    },
    {
      "cell_type": "code",
      "metadata": {
        "colab": {
          "base_uri": "https://localhost:8080/"
        },
        "id": "1QdDhCZzcqKb",
        "outputId": "17ed70a0-a4ce-455b-b9d5-76cdfd8b96c1"
      },
      "source": [
        "A = np.array([\n",
        "    [1,2],\n",
        "    [2,3],\n",
        "    [4,1]\n",
        "])\n",
        "\n",
        "B = np.array([\n",
        "    [2,2],\n",
        "    [0,0],\n",
        "    [1,1]          \n",
        "])\n",
        "\n",
        "A+B"
      ],
      "execution_count": null,
      "outputs": [
        {
          "output_type": "execute_result",
          "data": {
            "text/plain": [
              "array([[3, 4],\n",
              "       [2, 3],\n",
              "       [5, 2]])"
            ]
          },
          "metadata": {},
          "execution_count": 18
        }
      ]
    },
    {
      "cell_type": "code",
      "metadata": {
        "colab": {
          "base_uri": "https://localhost:8080/"
        },
        "id": "Aidex7s2c37r",
        "outputId": "0c36b032-3b71-420d-c89e-6fc8d6904c8c"
      },
      "source": [
        "2+A "
      ],
      "execution_count": null,
      "outputs": [
        {
          "output_type": "execute_result",
          "data": {
            "text/plain": [
              "array([[3, 4],\n",
              "       [4, 5],\n",
              "       [6, 3]])"
            ]
          },
          "metadata": {},
          "execution_count": 19
        }
      ]
    },
    {
      "cell_type": "code",
      "metadata": {
        "colab": {
          "base_uri": "https://localhost:8080/"
        },
        "id": "zBe7SKv9c7S2",
        "outputId": "07d88372-b1f4-4525-eafa-b3c16ee3d13b"
      },
      "source": [
        "2*np.ones(A.shape)+A"
      ],
      "execution_count": null,
      "outputs": [
        {
          "output_type": "execute_result",
          "data": {
            "text/plain": [
              "array([[3., 4.],\n",
              "       [4., 5.],\n",
              "       [6., 3.]])"
            ]
          },
          "metadata": {},
          "execution_count": 20
        }
      ]
    },
    {
      "cell_type": "code",
      "metadata": {
        "colab": {
          "base_uri": "https://localhost:8080/"
        },
        "id": "6l3oNSOzc9x0",
        "outputId": "53d0c946-85fd-4f89-ae76-71e2e69ff1da"
      },
      "source": [
        "2*np.ones(A.shape)+A == 2+A "
      ],
      "execution_count": null,
      "outputs": [
        {
          "output_type": "execute_result",
          "data": {
            "text/plain": [
              "array([[ True,  True],\n",
              "       [ True,  True],\n",
              "       [ True,  True]])"
            ]
          },
          "metadata": {},
          "execution_count": 21
        }
      ]
    },
    {
      "cell_type": "code",
      "metadata": {
        "colab": {
          "base_uri": "https://localhost:8080/"
        },
        "id": "sxOKplJ8dDmb",
        "outputId": "fe641e33-1347-410f-c78e-05feb44389c8"
      },
      "source": [
        "3-B"
      ],
      "execution_count": null,
      "outputs": [
        {
          "output_type": "execute_result",
          "data": {
            "text/plain": [
              "array([[1, 1],\n",
              "       [3, 3],\n",
              "       [2, 2]])"
            ]
          },
          "metadata": {},
          "execution_count": 22
        }
      ]
    },
    {
      "cell_type": "markdown",
      "metadata": {
        "id": "EbC1Nh3Sd90Z"
      },
      "source": [
        "###Element Wise Multiplacation"
      ]
    },
    {
      "cell_type": "code",
      "metadata": {
        "colab": {
          "base_uri": "https://localhost:8080/"
        },
        "id": "jGgebbP9eEz6",
        "outputId": "c5fa35fb-354c-4b9b-8ccf-128bb60e62d2"
      },
      "source": [
        "A*B"
      ],
      "execution_count": null,
      "outputs": [
        {
          "output_type": "execute_result",
          "data": {
            "text/plain": [
              "array([[2, 4],\n",
              "       [0, 0],\n",
              "       [4, 1]])"
            ]
          },
          "metadata": {},
          "execution_count": 23
        }
      ]
    },
    {
      "cell_type": "code",
      "metadata": {
        "colab": {
          "base_uri": "https://localhost:8080/"
        },
        "id": "GOlVhJEyeU08",
        "outputId": "23b23aa5-f4f7-4733-c86c-5c094029c99c"
      },
      "source": [
        "2*A"
      ],
      "execution_count": null,
      "outputs": [
        {
          "output_type": "execute_result",
          "data": {
            "text/plain": [
              "array([[2, 4],\n",
              "       [4, 6],\n",
              "       [8, 2]])"
            ]
          },
          "metadata": {},
          "execution_count": 24
        }
      ]
    },
    {
      "cell_type": "code",
      "metadata": {
        "colab": {
          "base_uri": "https://localhost:8080/",
          "height": 166
        },
        "id": "10XCye0HJnGl",
        "outputId": "798df229-700b-4153-c3ea-bc51e1b3952a"
      },
      "source": [
        "A@B"
      ],
      "execution_count": null,
      "outputs": [
        {
          "output_type": "error",
          "ename": "ValueError",
          "evalue": "ignored",
          "traceback": [
            "\u001b[0;31m---------------------------------------------------------------------------\u001b[0m",
            "\u001b[0;31mValueError\u001b[0m                                Traceback (most recent call last)",
            "\u001b[0;32m<ipython-input-35-5016aafd2858>\u001b[0m in \u001b[0;36m<module>\u001b[0;34m()\u001b[0m\n\u001b[0;32m----> 1\u001b[0;31m \u001b[0mA\u001b[0m\u001b[0;34m@\u001b[0m\u001b[0mB\u001b[0m\u001b[0;34m\u001b[0m\u001b[0;34m\u001b[0m\u001b[0m\n\u001b[0m",
            "\u001b[0;31mValueError\u001b[0m: matmul: Input operand 1 has a mismatch in its core dimension 0, with gufunc signature (n?,k),(k,m?)->(n?,m?) (size 3 is different from 2)"
          ]
        }
      ]
    },
    {
      "cell_type": "code",
      "metadata": {
        "colab": {
          "base_uri": "https://localhost:8080/"
        },
        "id": "HTUIlEuTeaPW",
        "outputId": "733a3b7c-dfa3-473b-ad5b-6a56f83a0061"
      },
      "source": [
        "A/B"
      ],
      "execution_count": null,
      "outputs": [
        {
          "output_type": "stream",
          "name": "stderr",
          "text": [
            "/usr/local/lib/python3.7/dist-packages/ipykernel_launcher.py:1: RuntimeWarning: divide by zero encountered in true_divide\n",
            "  \"\"\"Entry point for launching an IPython kernel.\n"
          ]
        },
        {
          "output_type": "execute_result",
          "data": {
            "text/plain": [
              "array([[0.5, 1. ],\n",
              "       [inf, inf],\n",
              "       [4. , 1. ]])"
            ]
          },
          "metadata": {},
          "execution_count": 27
        }
      ]
    },
    {
      "cell_type": "code",
      "metadata": {
        "colab": {
          "base_uri": "https://localhost:8080/"
        },
        "id": "S4n7EqGTfGDx",
        "outputId": "c0afb520-d9c6-4499-8993-f133382d8018"
      },
      "source": [
        "alpha = 10**-10\n",
        "A/(alpha+B)"
      ],
      "execution_count": null,
      "outputs": [
        {
          "output_type": "execute_result",
          "data": {
            "text/plain": [
              "array([[5.e-01, 1.e+00],\n",
              "       [2.e+10, 3.e+10],\n",
              "       [4.e+00, 1.e+00]])"
            ]
          },
          "metadata": {},
          "execution_count": 28
        }
      ]
    },
    {
      "cell_type": "code",
      "metadata": {
        "colab": {
          "base_uri": "https://localhost:8080/"
        },
        "id": "AhJgK-jffTpx",
        "outputId": "83e98f41-c03b-4d40-a778-4dc2c08be540"
      },
      "source": [
        "np.add(A,B)"
      ],
      "execution_count": null,
      "outputs": [
        {
          "output_type": "execute_result",
          "data": {
            "text/plain": [
              "array([[3, 4],\n",
              "       [2, 3],\n",
              "       [5, 2]])"
            ]
          },
          "metadata": {},
          "execution_count": 29
        }
      ]
    },
    {
      "cell_type": "markdown",
      "metadata": {
        "id": "U3-0U8jPfXBd"
      },
      "source": [
        "###Activity\n"
      ]
    },
    {
      "cell_type": "markdown",
      "metadata": {
        "id": "YU65deGZLNrb"
      },
      "source": [
        "###Task 1\n",
        "Create a function named `desc_mat()` that througouhly describes a matrix, it should: <br>\n",
        "1. Displays the shape, size, and rank of the matrix. <br>\n",
        "2. Displays whether the matrix is square or non-square. <br>\n",
        "3. Displays whether the matrix is an empty matrix. <br>\n",
        "4. Displays if the matrix is an identity, ones, or zeros matrix <br>\n",
        "   \n",
        "Use 5 sample matrices in which their shapes are not lower than $(3,3)$.\n",
        "In your methodology, create a flowchart discuss the functions and methods you have done. Present your results in the results section showing the description of each matrix you have declared."
      ]
    },
    {
      "cell_type": "markdown",
      "metadata": {
        "id": "tDAvyNITferA"
      },
      "source": [
        "###Function Area"
      ]
    },
    {
      "cell_type": "code",
      "metadata": {
        "id": "-bhKc-uXfddF"
      },
      "source": [
        "def desc_mat(matrix):\n",
        "    print(f'Matrix:\\n{matrix}\\n\\nShape:\\t{matrix.shape}\\nRank:\\t{matrix.ndim}\\n')"
      ],
      "execution_count": null,
      "outputs": []
    },
    {
      "cell_type": "markdown",
      "metadata": {
        "id": "XK8Ur_D8mvgI"
      },
      "source": [
        "###Matrix Declaration"
      ]
    },
    {
      "cell_type": "code",
      "metadata": {
        "id": "28rhXijJmcSO"
      },
      "source": [
        "## Null Matrix\n",
        "null_mat = np.array([])\n"
      ],
      "execution_count": null,
      "outputs": []
    },
    {
      "cell_type": "code",
      "metadata": {
        "id": "CgxxNs7qoi73"
      },
      "source": [
        "## Zero Matrix\n",
        "zero_mat_sqr = np.zeros((3,3))"
      ],
      "execution_count": null,
      "outputs": []
    },
    {
      "cell_type": "code",
      "metadata": {
        "id": "XfubEoUipDTo"
      },
      "source": [
        "## Ones Matrix\n",
        "ones_mat_sqr = np.ones((3,3))"
      ],
      "execution_count": null,
      "outputs": []
    },
    {
      "cell_type": "code",
      "metadata": {
        "id": "emvFuDmopDLY"
      },
      "source": [
        "## Diagonal Matrix\n",
        "A = np.array([\n",
        "    [1, 0, 0],\n",
        "    [0, 8, 0],\n",
        "    [0, 0, 4]\n",
        "])"
      ],
      "execution_count": null,
      "outputs": []
    },
    {
      "cell_type": "code",
      "metadata": {
        "id": "hzpf2BNFppW6"
      },
      "source": [
        "## Identity Matrix\n",
        "# np.identity(3)\n"
      ],
      "execution_count": null,
      "outputs": []
    },
    {
      "cell_type": "code",
      "metadata": {
        "id": "d731qj1Cpqrn"
      },
      "source": [
        "## Upper Triangular Matrix\n",
        "B = np.array([\n",
        "    [1, 2, 3],\n",
        "    [0, 6, 4],\n",
        "    [0, 0, 6]\n",
        "])"
      ],
      "execution_count": null,
      "outputs": []
    },
    {
      "cell_type": "code",
      "metadata": {
        "id": "iFrSbsYJqjW5"
      },
      "source": [
        "#Lower Triangular Matrix\n",
        "C = np.array([\n",
        "    [1, 0, 0],\n",
        "    [8, 6, 0],\n",
        "    [4, 5, 6]\n",
        "])"
      ],
      "execution_count": null,
      "outputs": []
    },
    {
      "cell_type": "markdown",
      "metadata": {
        "id": "KfY8t4eCq328"
      },
      "source": [
        "###Test Areas"
      ]
    },
    {
      "cell_type": "code",
      "metadata": {
        "colab": {
          "base_uri": "https://localhost:8080/"
        },
        "id": "GAyKzOoLq6MD",
        "outputId": "6d058eb7-7d74-40ca-caeb-71f9636be827"
      },
      "source": [
        "## Null Matrix\n",
        "desc_mat(null_mat)"
      ],
      "execution_count": null,
      "outputs": [
        {
          "output_type": "stream",
          "name": "stdout",
          "text": [
            "Matrix:\n",
            "[]\n",
            "\n",
            "Shape:\t(0,)\n",
            "Rank:\t1\n",
            "\n"
          ]
        }
      ]
    },
    {
      "cell_type": "code",
      "metadata": {
        "colab": {
          "base_uri": "https://localhost:8080/"
        },
        "id": "CzKDbNzTq_ie",
        "outputId": "3dc85515-fb46-4647-9e30-64136dc72d82"
      },
      "source": [
        "## Zero Matrix\n",
        "desc_mat(zero_mat_sqr)\n"
      ],
      "execution_count": null,
      "outputs": [
        {
          "output_type": "stream",
          "name": "stdout",
          "text": [
            "Matrix:\n",
            "[[0. 0. 0.]\n",
            " [0. 0. 0.]\n",
            " [0. 0. 0.]]\n",
            "\n",
            "Shape:\t(3, 3)\n",
            "Rank:\t2\n",
            "\n"
          ]
        }
      ]
    },
    {
      "cell_type": "code",
      "metadata": {
        "colab": {
          "base_uri": "https://localhost:8080/"
        },
        "id": "hsW2cHg1rDdg",
        "outputId": "be5480e0-9411-46ff-b652-84aa3528eda7"
      },
      "source": [
        "## Ones Matrix\n",
        "desc_mat(ones_mat_sqr)"
      ],
      "execution_count": null,
      "outputs": [
        {
          "output_type": "stream",
          "name": "stdout",
          "text": [
            "Matrix:\n",
            "[[1. 1. 1.]\n",
            " [1. 1. 1.]\n",
            " [1. 1. 1.]]\n",
            "\n",
            "Shape:\t(3, 3)\n",
            "Rank:\t2\n",
            "\n"
          ]
        }
      ]
    },
    {
      "cell_type": "code",
      "metadata": {
        "colab": {
          "base_uri": "https://localhost:8080/"
        },
        "id": "q9679TzCrGpI",
        "outputId": "9730e9de-4d48-499d-eb4d-5d6ce0ca7217"
      },
      "source": [
        "## Diagonal Matrix\n",
        "desc_mat(A)"
      ],
      "execution_count": null,
      "outputs": [
        {
          "output_type": "stream",
          "name": "stdout",
          "text": [
            "Matrix:\n",
            "[[1 0 0]\n",
            " [0 8 0]\n",
            " [0 0 4]]\n",
            "\n",
            "Shape:\t(3, 3)\n",
            "Rank:\t2\n",
            "\n"
          ]
        }
      ]
    },
    {
      "cell_type": "code",
      "metadata": {
        "colab": {
          "base_uri": "https://localhost:8080/"
        },
        "id": "a-iRjLf6rIIf",
        "outputId": "1672b6f0-3b2b-4d9c-c484-9a50880b2d9f"
      },
      "source": [
        "## Identity Matrix\n",
        "np.identity(3)"
      ],
      "execution_count": null,
      "outputs": [
        {
          "output_type": "execute_result",
          "data": {
            "text/plain": [
              "array([[1., 0., 0.],\n",
              "       [0., 1., 0.],\n",
              "       [0., 0., 1.]])"
            ]
          },
          "metadata": {},
          "execution_count": 34
        }
      ]
    },
    {
      "cell_type": "code",
      "metadata": {
        "colab": {
          "base_uri": "https://localhost:8080/"
        },
        "id": "Ldmr9mh5rT19",
        "outputId": "08f2cd3e-2dba-4eb8-843e-b0a4bdace5ab"
      },
      "source": [
        "## Upper Triangular Matrix\n",
        "desc_mat(B)"
      ],
      "execution_count": null,
      "outputs": [
        {
          "output_type": "stream",
          "name": "stdout",
          "text": [
            "Matrix:\n",
            "[[1 2 3]\n",
            " [0 6 4]\n",
            " [0 0 6]]\n",
            "\n",
            "Shape:\t(3, 3)\n",
            "Rank:\t2\n",
            "\n"
          ]
        }
      ]
    },
    {
      "cell_type": "code",
      "metadata": {
        "colab": {
          "base_uri": "https://localhost:8080/"
        },
        "id": "x-FOnCIfrXXt",
        "outputId": "9f7e9825-3a89-4da3-9ddf-c8277c5c17a1"
      },
      "source": [
        "#Lower Triangular Matrix\n",
        "desc_mat(C)"
      ],
      "execution_count": null,
      "outputs": [
        {
          "output_type": "stream",
          "name": "stdout",
          "text": [
            "Matrix:\n",
            "[[1 0 0]\n",
            " [8 6 0]\n",
            " [4 5 6]]\n",
            "\n",
            "Shape:\t(3, 3)\n",
            "Rank:\t2\n",
            "\n"
          ]
        }
      ]
    },
    {
      "cell_type": "markdown",
      "metadata": {
        "id": "xM_ePkp7LJtm"
      },
      "source": [
        "###Task 2\n",
        "Create a function named `mat_operations()` that takes in two matrices a input parameters it should:<br>\n",
        " 1. Determines if the matrices are viable for operation and returns your own error message if they are not viable.\n",
        " 2. Returns the sum of the matrices.\n",
        " 3. Returns the differen of the matrices.\n",
        " 4. Returns the element-wise multiplication of the matrices.\n",
        " 5. Returns the element-wise division of the matrices.\n",
        "\n",
        "Use 5 sample matrices in which their shapes are not lower than $(3,3)$.\n",
        "In your methodology, create a flowchart discuss the functions and methods you have done. Present your results in the results section showing the description of each matrix you have declared.###Task 2"
      ]
    },
    {
      "cell_type": "markdown",
      "metadata": {
        "id": "H2tkemD9rqkk"
      },
      "source": [
        "###Function Area"
      ]
    },
    {
      "cell_type": "code",
      "metadata": {
        "id": "s4U5NPJkrgsX"
      },
      "source": [
        "def mat_operations(matrix):\n",
        "    print(f'Matrix:\\n{matrix}\\n\\nShape:\\t{matrix.shape}\\nRank:\\t{matrix.ndim}\\n')"
      ],
      "execution_count": null,
      "outputs": []
    },
    {
      "cell_type": "markdown",
      "metadata": {
        "id": "J8nDUB4Grn8E"
      },
      "source": [
        "###Matrix Declaration"
      ]
    },
    {
      "cell_type": "code",
      "metadata": {
        "id": "IDW7xU7srlGY"
      },
      "source": [
        "## Addition\n",
        "A = np.array([\n",
        "    [1,3,6],\n",
        "    [1,2,8],\n",
        "    [3,2,9]\n",
        "])\n",
        "B = np.array([\n",
        "    [1,3,4],\n",
        "    [3,1,2],\n",
        "    [6,9,8]\n",
        "])"
      ],
      "execution_count": null,
      "outputs": []
    },
    {
      "cell_type": "code",
      "metadata": {
        "id": "R-IA1jeQsrzx"
      },
      "source": [
        "## Subtraction\n",
        "D = np.array([\n",
        "    [4,2,3],\n",
        "    [1,8,6],\n",
        "    [9,6,0]\n",
        "])\n",
        "E = np.array([\n",
        "    [1,4,5],\n",
        "    [4,2,6],\n",
        "    [1,9,8]\n",
        "])"
      ],
      "execution_count": null,
      "outputs": []
    },
    {
      "cell_type": "code",
      "metadata": {
        "id": "uBO3BhMDs4Ox"
      },
      "source": [
        "## element-wise multiplication\n",
        "F = np.array([\n",
        "    [3,1,2],\n",
        "    [2,4,5],\n",
        "    [6,9,8]\n",
        "])\n",
        "G = np.array([\n",
        "    [2,3,5],\n",
        "    [1,4,9],\n",
        "    [0,3,7]\n",
        "])"
      ],
      "execution_count": null,
      "outputs": []
    },
    {
      "cell_type": "code",
      "metadata": {
        "id": "a3BooZsKtEZ5"
      },
      "source": [
        "## element-wise division\n",
        "H = np.array([\n",
        "    [11,12,15],\n",
        "    [13,19,8],\n",
        "    [22,18,16]\n",
        "])\n",
        "I = np.array([\n",
        "    [1,6,5],\n",
        "    [3,3,3],\n",
        "    [7,10,2]\n",
        "])"
      ],
      "execution_count": null,
      "outputs": []
    },
    {
      "cell_type": "markdown",
      "metadata": {
        "id": "A0CdafmjtdwK"
      },
      "source": [
        "###Test Areas"
      ]
    },
    {
      "cell_type": "code",
      "metadata": {
        "colab": {
          "base_uri": "https://localhost:8080/",
          "height": 201
        },
        "id": "RxZbCG2AtbM_",
        "outputId": "37cf3268-6f11-4147-bc96-ec44866cbafc"
      },
      "source": [
        "## Addition\n",
        "C = A+B\n",
        "mat_operations(C)"
      ],
      "execution_count": null,
      "outputs": [
        {
          "output_type": "error",
          "ename": "NameError",
          "evalue": "ignored",
          "traceback": [
            "\u001b[0;31m---------------------------------------------------------------------------\u001b[0m",
            "\u001b[0;31mNameError\u001b[0m                                 Traceback (most recent call last)",
            "\u001b[0;32m<ipython-input-39-7c9bc7b1ae3d>\u001b[0m in \u001b[0;36m<module>\u001b[0;34m()\u001b[0m\n\u001b[1;32m      1\u001b[0m \u001b[0;31m## Addition\u001b[0m\u001b[0;34m\u001b[0m\u001b[0;34m\u001b[0m\u001b[0;34m\u001b[0m\u001b[0m\n\u001b[1;32m      2\u001b[0m \u001b[0mC\u001b[0m \u001b[0;34m=\u001b[0m \u001b[0mA\u001b[0m\u001b[0;34m+\u001b[0m\u001b[0mB\u001b[0m\u001b[0;34m\u001b[0m\u001b[0;34m\u001b[0m\u001b[0m\n\u001b[0;32m----> 3\u001b[0;31m \u001b[0mmat_operations\u001b[0m\u001b[0;34m(\u001b[0m\u001b[0mC\u001b[0m\u001b[0;34m)\u001b[0m\u001b[0;34m\u001b[0m\u001b[0;34m\u001b[0m\u001b[0m\n\u001b[0m",
            "\u001b[0;31mNameError\u001b[0m: name 'mat_operations' is not defined"
          ]
        }
      ]
    },
    {
      "cell_type": "code",
      "metadata": {
        "colab": {
          "base_uri": "https://localhost:8080/"
        },
        "id": "5mQddH-JtjhB",
        "outputId": "7639fbd7-467e-4708-ffbe-9d6e289a1a3f"
      },
      "source": [
        "np.add(A,B)"
      ],
      "execution_count": null,
      "outputs": [
        {
          "output_type": "execute_result",
          "data": {
            "text/plain": [
              "array([[ 2,  6, 10],\n",
              "       [ 4,  3, 10],\n",
              "       [ 9, 11, 17]])"
            ]
          },
          "metadata": {},
          "execution_count": 24
        }
      ]
    },
    {
      "cell_type": "code",
      "metadata": {
        "colab": {
          "base_uri": "https://localhost:8080/"
        },
        "id": "PiFFcSGDtmT6",
        "outputId": "c9648cf6-f0f5-4440-f0cd-8a3c84fb88e3"
      },
      "source": [
        "## Subtraction\n",
        "S = D-E\n",
        "mat_operations(S)"
      ],
      "execution_count": null,
      "outputs": [
        {
          "output_type": "stream",
          "name": "stdout",
          "text": [
            "Matrix:\n",
            "[[ 3 -2 -2]\n",
            " [-3  6  0]\n",
            " [ 8 -3 -8]]\n",
            "\n",
            "Shape:\t(3, 3)\n",
            "Rank:\t2\n",
            "\n"
          ]
        }
      ]
    },
    {
      "cell_type": "code",
      "metadata": {
        "colab": {
          "base_uri": "https://localhost:8080/"
        },
        "id": "lGcOmJUZtp7M",
        "outputId": "ce93ea7b-2290-477b-88f5-6242939c92f0"
      },
      "source": [
        "np.subtract(D,E)"
      ],
      "execution_count": null,
      "outputs": [
        {
          "output_type": "execute_result",
          "data": {
            "text/plain": [
              "array([[ 3, -2, -2],\n",
              "       [-3,  6,  0],\n",
              "       [ 8, -3, -8]])"
            ]
          },
          "metadata": {},
          "execution_count": 26
        }
      ]
    },
    {
      "cell_type": "code",
      "metadata": {
        "colab": {
          "base_uri": "https://localhost:8080/",
          "height": 201
        },
        "id": "QK_RgLQctvWA",
        "outputId": "89f9f5d7-9c0d-40d8-9af2-1d90cffbca8a"
      },
      "source": [
        "## element-wise multiplication\n",
        "M = F*G\n",
        "mat_operations(M)"
      ],
      "execution_count": null,
      "outputs": [
        {
          "output_type": "error",
          "ename": "NameError",
          "evalue": "ignored",
          "traceback": [
            "\u001b[0;31m---------------------------------------------------------------------------\u001b[0m",
            "\u001b[0;31mNameError\u001b[0m                                 Traceback (most recent call last)",
            "\u001b[0;32m<ipython-input-40-e8ce3e2e3954>\u001b[0m in \u001b[0;36m<module>\u001b[0;34m()\u001b[0m\n\u001b[1;32m      1\u001b[0m \u001b[0;31m## element-wise multiplication\u001b[0m\u001b[0;34m\u001b[0m\u001b[0;34m\u001b[0m\u001b[0;34m\u001b[0m\u001b[0m\n\u001b[1;32m      2\u001b[0m \u001b[0mM\u001b[0m \u001b[0;34m=\u001b[0m \u001b[0mF\u001b[0m\u001b[0;34m*\u001b[0m\u001b[0mG\u001b[0m\u001b[0;34m\u001b[0m\u001b[0;34m\u001b[0m\u001b[0m\n\u001b[0;32m----> 3\u001b[0;31m \u001b[0mmat_operations\u001b[0m\u001b[0;34m(\u001b[0m\u001b[0mM\u001b[0m\u001b[0;34m)\u001b[0m\u001b[0;34m\u001b[0m\u001b[0;34m\u001b[0m\u001b[0m\n\u001b[0m",
            "\u001b[0;31mNameError\u001b[0m: name 'mat_operations' is not defined"
          ]
        }
      ]
    },
    {
      "cell_type": "code",
      "metadata": {
        "colab": {
          "base_uri": "https://localhost:8080/"
        },
        "id": "Xi2wK0Sat0W5",
        "outputId": "a5137808-039d-475c-ecc3-11ec2746ba6a"
      },
      "source": [
        "np.multiply(F,G)"
      ],
      "execution_count": null,
      "outputs": [
        {
          "output_type": "execute_result",
          "data": {
            "text/plain": [
              "array([[ 6,  3, 10],\n",
              "       [ 2, 16, 45],\n",
              "       [ 0, 27, 56]])"
            ]
          },
          "metadata": {},
          "execution_count": 41
        }
      ]
    },
    {
      "cell_type": "code",
      "metadata": {
        "colab": {
          "base_uri": "https://localhost:8080/"
        },
        "id": "aPkQU68Ct8DE",
        "outputId": "3956c97b-ab92-493d-ce3c-2fdf6f1db7e2"
      },
      "source": [
        "4*G"
      ],
      "execution_count": null,
      "outputs": [
        {
          "output_type": "execute_result",
          "data": {
            "text/plain": [
              "array([[ 8, 12, 20],\n",
              "       [ 4, 16, 36],\n",
              "       [ 0, 12, 28]])"
            ]
          },
          "metadata": {},
          "execution_count": 61
        }
      ]
    },
    {
      "cell_type": "code",
      "metadata": {
        "colab": {
          "base_uri": "https://localhost:8080/"
        },
        "id": "D5U4ARNOuA8D",
        "outputId": "5a20a663-1cc6-4d81-e56f-712916fccbe4"
      },
      "source": [
        "## element-wise division\n",
        "V = H/I\n",
        "mat_operations(V)"
      ],
      "execution_count": null,
      "outputs": [
        {
          "output_type": "stream",
          "name": "stdout",
          "text": [
            "Matrix:\n",
            "[[11.          2.          3.        ]\n",
            " [ 4.33333333  6.33333333  2.66666667]\n",
            " [ 3.14285714  1.8         8.        ]]\n",
            "\n",
            "Shape:\t(3, 3)\n",
            "Rank:\t2\n",
            "\n"
          ]
        }
      ]
    },
    {
      "cell_type": "code",
      "metadata": {
        "colab": {
          "base_uri": "https://localhost:8080/"
        },
        "id": "DqW9A9qbuDbi",
        "outputId": "99b90c66-83d8-42a4-b99c-9dfce55dfde4"
      },
      "source": [
        "np.divide(H,I)"
      ],
      "execution_count": null,
      "outputs": [
        {
          "output_type": "execute_result",
          "data": {
            "text/plain": [
              "array([[11.        ,  2.        ,  3.        ],\n",
              "       [ 4.33333333,  6.33333333,  2.66666667],\n",
              "       [ 3.14285714,  1.8       ,  8.        ]])"
            ]
          },
          "metadata": {},
          "execution_count": 63
        }
      ]
    },
    {
      "cell_type": "code",
      "metadata": {
        "colab": {
          "base_uri": "https://localhost:8080/"
        },
        "id": "1_GxvipmuIaD",
        "outputId": "01e04309-7add-4f40-9b05-7c65faa1983c"
      },
      "source": [
        "np.divide(H,I)"
      ],
      "execution_count": null,
      "outputs": [
        {
          "output_type": "execute_result",
          "data": {
            "text/plain": [
              "array([[11.        ,  2.        ,  3.        ],\n",
              "       [ 4.33333333,  6.33333333,  2.66666667],\n",
              "       [ 3.14285714,  1.8       ,  8.        ]])"
            ]
          },
          "metadata": {},
          "execution_count": 64
        }
      ]
    },
    {
      "cell_type": "code",
      "metadata": {
        "colab": {
          "base_uri": "https://localhost:8080/"
        },
        "id": "DiIEZpn1uMoN",
        "outputId": "6a815153-6859-4519-e780-8cc63532cb79"
      },
      "source": [
        "H/5"
      ],
      "execution_count": null,
      "outputs": [
        {
          "output_type": "execute_result",
          "data": {
            "text/plain": [
              "array([[2.2, 2.4, 3. ],\n",
              "       [2.6, 3.8, 1.6],\n",
              "       [4.4, 3.6, 3.2]])"
            ]
          },
          "metadata": {},
          "execution_count": 37
        }
      ]
    },
    {
      "cell_type": "code",
      "metadata": {
        "colab": {
          "base_uri": "https://localhost:8080/"
        },
        "id": "Hre2rvehuOBB",
        "outputId": "62c53200-6dcc-49c0-9fd0-daabf907e594"
      },
      "source": [
        "1/I"
      ],
      "execution_count": null,
      "outputs": [
        {
          "output_type": "execute_result",
          "data": {
            "text/plain": [
              "array([[1.        , 0.16666667, 0.2       ],\n",
              "       [0.33333333, 0.33333333, 0.33333333],\n",
              "       [0.14285714, 0.1       , 0.5       ]])"
            ]
          },
          "metadata": {},
          "execution_count": 66
        }
      ]
    },
    {
      "cell_type": "markdown",
      "metadata": {
        "id": "RQORc2sJKACX"
      },
      "source": [
        "###Conclusion\n"
      ]
    },
    {
      "cell_type": "markdown",
      "metadata": {
        "id": "pl4JZBN6KB5M"
      },
      "source": [
        "To conclude, the matrix we are using is beneficial and powerful in mathematics analysis and data collection. Apart from simultaneous equations, the properties of matrices are useful in programming, where we utilize an array, which is a matrix, to store data. A matrix's numbers can be used to represent data or mathematical equations. They're used to approximate more sophisticated calculations quickly. Originally, they were created to describe systems of linear equations. Computers can multiply matrices to solve systems of linear equations in applications like image processing and genetic research. It is helpful for us, ECE students for the future, for us, to be able to lessen the time we consume on one task. In short, it is very helpful to make the work easy."
      ]
    }
  ]
}